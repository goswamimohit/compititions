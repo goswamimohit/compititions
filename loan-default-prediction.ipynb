{
 "cells": [
  {
   "cell_type": "code",
   "execution_count": 1,
   "id": "a1b189f9",
   "metadata": {
    "_cell_guid": "b1076dfc-b9ad-4769-8c92-a6c4dae69d19",
    "_uuid": "8f2839f25d086af736a60e9eeb907d3b93b6e0e5",
    "execution": {
     "iopub.execute_input": "2022-07-26T15:50:58.499091Z",
     "iopub.status.busy": "2022-07-26T15:50:58.498559Z",
     "iopub.status.idle": "2022-07-26T15:50:58.518620Z",
     "shell.execute_reply": "2022-07-26T15:50:58.517371Z"
    },
    "papermill": {
     "duration": 0.037879,
     "end_time": "2022-07-26T15:50:58.521533",
     "exception": false,
     "start_time": "2022-07-26T15:50:58.483654",
     "status": "completed"
    },
    "tags": []
   },
   "outputs": [
    {
     "name": "stdout",
     "output_type": "stream",
     "text": [
      "/kaggle/input/analytic-hackthon/sample_submission_tbPU9qQ.csv\n",
      "/kaggle/input/analytic-hackthon/train_LZV4RXX.csv\n",
      "/kaggle/input/analytic-hackthon/test_4zJg83n.csv\n"
     ]
    }
   ],
   "source": [
    "# This Python 3 environment comes with many helpful analytics libraries installed\n",
    "# It is defined by the kaggle/python Docker image: https://github.com/kaggle/docker-python\n",
    "# For example, here's several helpful packages to load\n",
    "\n",
    "import numpy as np # linear algebra\n",
    "import pandas as pd # data processing, CSV file I/O (e.g. pd.read_csv)\n",
    "\n",
    "# Input data files are available in the read-only \"../input/\" directory\n",
    "# For example, running this (by clicking run or pressing Shift+Enter) will list all files under the input directory\n",
    "\n",
    "import os\n",
    "for dirname, _, filenames in os.walk('/kaggle/input'):\n",
    "    for filename in filenames:\n",
    "        print(os.path.join(dirname, filename))\n",
    "\n",
    "# You can write up to 20GB to the current directory (/kaggle/working/) that gets preserved as output when you create a version using \"Save & Run All\" \n",
    "# You can also write temporary files to /kaggle/temp/, but they won't be saved outside of the current session"
   ]
  },
  {
   "cell_type": "code",
   "execution_count": 2,
   "id": "ece4f8dd",
   "metadata": {
    "execution": {
     "iopub.execute_input": "2022-07-26T15:50:58.545167Z",
     "iopub.status.busy": "2022-07-26T15:50:58.544769Z",
     "iopub.status.idle": "2022-07-26T15:50:59.836449Z",
     "shell.execute_reply": "2022-07-26T15:50:59.835421Z"
    },
    "papermill": {
     "duration": 1.306525,
     "end_time": "2022-07-26T15:50:59.839220",
     "exception": false,
     "start_time": "2022-07-26T15:50:58.532695",
     "status": "completed"
    },
    "tags": []
   },
   "outputs": [],
   "source": [
    "# library\n",
    "import missingno as msno\n",
    "import matplotlib.pyplot as plt\n",
    "import seaborn as sns"
   ]
  },
  {
   "cell_type": "markdown",
   "id": "e6945513",
   "metadata": {
    "papermill": {
     "duration": 0.010235,
     "end_time": "2022-07-26T15:50:59.860455",
     "exception": false,
     "start_time": "2022-07-26T15:50:59.850220",
     "status": "completed"
    },
    "tags": []
   },
   "source": [
    "## Problem Statement\n",
    "\n",
    "MyHom is a finance company that lends housing loans at the best and most affordable interest rates to customers. In recent times, the company incurred heavy losses due to loan defaults. Most applicants failed to repay the loan as per the promissory note.\n",
    "\n",
    "\n",
    "In order to avoid such losses, the company has decided to build a system for identifying the loan defaulters automatically based on data. This will help the company to identify the potential applicants and ensure the smooth running of the entire process.\n",
    "\n",
    "\n",
    "Now, the company challenges the Data Science community to build a smart AI system to predict the probability of an applicant defaulting the loan or not in the future."
   ]
  },
  {
   "cell_type": "markdown",
   "id": "75d1226c",
   "metadata": {
    "papermill": {
     "duration": 0.010982,
     "end_time": "2022-07-26T15:50:59.882263",
     "exception": false,
     "start_time": "2022-07-26T15:50:59.871281",
     "status": "completed"
    },
    "tags": []
   },
   "source": [
    "## Loan Default Prediction\n",
    "\n",
    "Can you predict if an applicant will default the loan or not in the future?"
   ]
  },
  {
   "cell_type": "markdown",
   "id": "0d2ddddc",
   "metadata": {
    "papermill": {
     "duration": 0.01035,
     "end_time": "2022-07-26T15:50:59.903536",
     "exception": false,
     "start_time": "2022-07-26T15:50:59.893186",
     "status": "completed"
    },
    "tags": []
   },
   "source": [
    "## Variable Discription\n",
    "\n",
    "| Variable                        | Description                                                 |\n",
    "| ------------------------------- | ----------------------------------------------------------- |\n",
    "| loan\\_id                        | Unique identifier of a loan                                 |\n",
    "| age                             | Age of the Applicant                                        |\n",
    "| Education                       | Applicant Education                                         |\n",
    "| proof\\_submitted                | Type of proof submitted                                     |\n",
    "| loan\\_amount                    | Loan Amount Disbursed                                       |\n",
    "| asset\\_cost                     | The total asset value of the applicant                      |\n",
    "| no\\_of\\_loans                   | No. of the loans taken by the applicant                     |\n",
    "| no\\_of\\_curr\\_loans             | No. of active loans held by the applicant                   |\n",
    "| last\\_delinq\\_none              | The loan defaulted in at least one of the past loans        |\n",
    "| loan\\_default (Target Variable) | 0/1 indicating if an applicant will default the loan or not |"
   ]
  },
  {
   "cell_type": "markdown",
   "id": "88065a26",
   "metadata": {
    "papermill": {
     "duration": 0.010416,
     "end_time": "2022-07-26T15:50:59.925259",
     "exception": false,
     "start_time": "2022-07-26T15:50:59.914843",
     "status": "completed"
    },
    "tags": []
   },
   "source": [
    "## Evaluation metric\n",
    "\n",
    "\n",
    "The evaluation metric for this hackathon would be the macro F1 Score."
   ]
  },
  {
   "cell_type": "code",
   "execution_count": 3,
   "id": "19f70be0",
   "metadata": {
    "execution": {
     "iopub.execute_input": "2022-07-26T15:50:59.948367Z",
     "iopub.status.busy": "2022-07-26T15:50:59.947972Z",
     "iopub.status.idle": "2022-07-26T15:50:59.953301Z",
     "shell.execute_reply": "2022-07-26T15:50:59.952058Z"
    },
    "papermill": {
     "duration": 0.019596,
     "end_time": "2022-07-26T15:50:59.955611",
     "exception": false,
     "start_time": "2022-07-26T15:50:59.936015",
     "status": "completed"
    },
    "tags": []
   },
   "outputs": [],
   "source": [
    "filepath_train = '/kaggle/input/analytic-hackthon/train_LZV4RXX.csv'\n",
    "filepath_test = '/kaggle/input/analytic-hackthon/test_4zJg83n.csv'\n",
    "filepath_submission = '/kaggle/input/analytic-hackthon/sample_submission_tbPU9qQ.csv'"
   ]
  },
  {
   "cell_type": "code",
   "execution_count": 4,
   "id": "f234e13a",
   "metadata": {
    "execution": {
     "iopub.execute_input": "2022-07-26T15:50:59.980034Z",
     "iopub.status.busy": "2022-07-26T15:50:59.979643Z",
     "iopub.status.idle": "2022-07-26T15:51:00.021587Z",
     "shell.execute_reply": "2022-07-26T15:51:00.020666Z"
    },
    "papermill": {
     "duration": 0.056641,
     "end_time": "2022-07-26T15:51:00.024233",
     "exception": false,
     "start_time": "2022-07-26T15:50:59.967592",
     "status": "completed"
    },
    "tags": []
   },
   "outputs": [],
   "source": [
    "train_df = pd.read_csv(filepath_train)\n",
    "test_df = pd.read_csv(filepath_test)\n",
    "submission_df = pd.read_csv(filepath_submission)"
   ]
  },
  {
   "cell_type": "code",
   "execution_count": 5,
   "id": "3d879acd",
   "metadata": {
    "execution": {
     "iopub.execute_input": "2022-07-26T15:51:00.048311Z",
     "iopub.status.busy": "2022-07-26T15:51:00.047471Z",
     "iopub.status.idle": "2022-07-26T15:51:00.056976Z",
     "shell.execute_reply": "2022-07-26T15:51:00.055830Z"
    },
    "papermill": {
     "duration": 0.023953,
     "end_time": "2022-07-26T15:51:00.059124",
     "exception": false,
     "start_time": "2022-07-26T15:51:00.035171",
     "status": "completed"
    },
    "tags": []
   },
   "outputs": [
    {
     "data": {
      "text/plain": [
       "(7000, 10)"
      ]
     },
     "execution_count": 5,
     "metadata": {},
     "output_type": "execute_result"
    }
   ],
   "source": [
    "train_df.shape"
   ]
  },
  {
   "cell_type": "code",
   "execution_count": 6,
   "id": "4281bac6",
   "metadata": {
    "execution": {
     "iopub.execute_input": "2022-07-26T15:51:00.083292Z",
     "iopub.status.busy": "2022-07-26T15:51:00.082492Z",
     "iopub.status.idle": "2022-07-26T15:51:00.102069Z",
     "shell.execute_reply": "2022-07-26T15:51:00.100973Z"
    },
    "papermill": {
     "duration": 0.034366,
     "end_time": "2022-07-26T15:51:00.104410",
     "exception": false,
     "start_time": "2022-07-26T15:51:00.070044",
     "status": "completed"
    },
    "tags": []
   },
   "outputs": [
    {
     "data": {
      "text/html": [
       "<div>\n",
       "<style scoped>\n",
       "    .dataframe tbody tr th:only-of-type {\n",
       "        vertical-align: middle;\n",
       "    }\n",
       "\n",
       "    .dataframe tbody tr th {\n",
       "        vertical-align: top;\n",
       "    }\n",
       "\n",
       "    .dataframe thead th {\n",
       "        text-align: right;\n",
       "    }\n",
       "</style>\n",
       "<table border=\"1\" class=\"dataframe\">\n",
       "  <thead>\n",
       "    <tr style=\"text-align: right;\">\n",
       "      <th></th>\n",
       "      <th>loan_id</th>\n",
       "      <th>age</th>\n",
       "      <th>education</th>\n",
       "      <th>proof_submitted</th>\n",
       "      <th>loan_amount</th>\n",
       "      <th>asset_cost</th>\n",
       "      <th>no_of_loans</th>\n",
       "      <th>no_of_curr_loans</th>\n",
       "      <th>last_delinq_none</th>\n",
       "      <th>loan_default</th>\n",
       "    </tr>\n",
       "  </thead>\n",
       "  <tbody>\n",
       "    <tr>\n",
       "      <th>0</th>\n",
       "      <td>1</td>\n",
       "      <td>27</td>\n",
       "      <td>1.0</td>\n",
       "      <td>Aadhar</td>\n",
       "      <td>504264</td>\n",
       "      <td>820920</td>\n",
       "      <td>2</td>\n",
       "      <td>2</td>\n",
       "      <td>0</td>\n",
       "      <td>0</td>\n",
       "    </tr>\n",
       "    <tr>\n",
       "      <th>1</th>\n",
       "      <td>2</td>\n",
       "      <td>48</td>\n",
       "      <td>1.0</td>\n",
       "      <td>Aadhar</td>\n",
       "      <td>728556</td>\n",
       "      <td>831444</td>\n",
       "      <td>6</td>\n",
       "      <td>2</td>\n",
       "      <td>0</td>\n",
       "      <td>0</td>\n",
       "    </tr>\n",
       "    <tr>\n",
       "      <th>2</th>\n",
       "      <td>3</td>\n",
       "      <td>30</td>\n",
       "      <td>2.0</td>\n",
       "      <td>VoterID</td>\n",
       "      <td>642936</td>\n",
       "      <td>826092</td>\n",
       "      <td>0</td>\n",
       "      <td>0</td>\n",
       "      <td>0</td>\n",
       "      <td>1</td>\n",
       "    </tr>\n",
       "    <tr>\n",
       "      <th>3</th>\n",
       "      <td>4</td>\n",
       "      <td>28</td>\n",
       "      <td>1.0</td>\n",
       "      <td>Aadhar</td>\n",
       "      <td>746556</td>\n",
       "      <td>930924</td>\n",
       "      <td>0</td>\n",
       "      <td>0</td>\n",
       "      <td>0</td>\n",
       "      <td>0</td>\n",
       "    </tr>\n",
       "    <tr>\n",
       "      <th>4</th>\n",
       "      <td>5</td>\n",
       "      <td>29</td>\n",
       "      <td>1.0</td>\n",
       "      <td>Aadhar</td>\n",
       "      <td>1139880</td>\n",
       "      <td>1902000</td>\n",
       "      <td>0</td>\n",
       "      <td>0</td>\n",
       "      <td>0</td>\n",
       "      <td>0</td>\n",
       "    </tr>\n",
       "  </tbody>\n",
       "</table>\n",
       "</div>"
      ],
      "text/plain": [
       "   loan_id  age  education proof_submitted  loan_amount  asset_cost  \\\n",
       "0        1   27        1.0          Aadhar       504264      820920   \n",
       "1        2   48        1.0          Aadhar       728556      831444   \n",
       "2        3   30        2.0         VoterID       642936      826092   \n",
       "3        4   28        1.0          Aadhar       746556      930924   \n",
       "4        5   29        1.0          Aadhar      1139880     1902000   \n",
       "\n",
       "   no_of_loans  no_of_curr_loans  last_delinq_none  loan_default  \n",
       "0            2                 2                 0             0  \n",
       "1            6                 2                 0             0  \n",
       "2            0                 0                 0             1  \n",
       "3            0                 0                 0             0  \n",
       "4            0                 0                 0             0  "
      ]
     },
     "execution_count": 6,
     "metadata": {},
     "output_type": "execute_result"
    }
   ],
   "source": [
    "train_df.head()"
   ]
  },
  {
   "cell_type": "code",
   "execution_count": 7,
   "id": "1971334c",
   "metadata": {
    "execution": {
     "iopub.execute_input": "2022-07-26T15:51:00.129556Z",
     "iopub.status.busy": "2022-07-26T15:51:00.128424Z",
     "iopub.status.idle": "2022-07-26T15:51:00.144046Z",
     "shell.execute_reply": "2022-07-26T15:51:00.142924Z"
    },
    "papermill": {
     "duration": 0.03025,
     "end_time": "2022-07-26T15:51:00.146284",
     "exception": false,
     "start_time": "2022-07-26T15:51:00.116034",
     "status": "completed"
    },
    "tags": []
   },
   "outputs": [
    {
     "data": {
      "text/html": [
       "<div>\n",
       "<style scoped>\n",
       "    .dataframe tbody tr th:only-of-type {\n",
       "        vertical-align: middle;\n",
       "    }\n",
       "\n",
       "    .dataframe tbody tr th {\n",
       "        vertical-align: top;\n",
       "    }\n",
       "\n",
       "    .dataframe thead th {\n",
       "        text-align: right;\n",
       "    }\n",
       "</style>\n",
       "<table border=\"1\" class=\"dataframe\">\n",
       "  <thead>\n",
       "    <tr style=\"text-align: right;\">\n",
       "      <th></th>\n",
       "      <th>loan_id</th>\n",
       "      <th>age</th>\n",
       "      <th>education</th>\n",
       "      <th>proof_submitted</th>\n",
       "      <th>loan_amount</th>\n",
       "      <th>asset_cost</th>\n",
       "      <th>no_of_loans</th>\n",
       "      <th>no_of_curr_loans</th>\n",
       "      <th>last_delinq_none</th>\n",
       "      <th>loan_default</th>\n",
       "    </tr>\n",
       "  </thead>\n",
       "  <tbody>\n",
       "    <tr>\n",
       "      <th>6995</th>\n",
       "      <td>6996</td>\n",
       "      <td>45</td>\n",
       "      <td>2.0</td>\n",
       "      <td>Aadhar</td>\n",
       "      <td>930948</td>\n",
       "      <td>1258344</td>\n",
       "      <td>0</td>\n",
       "      <td>0</td>\n",
       "      <td>0</td>\n",
       "      <td>1</td>\n",
       "    </tr>\n",
       "    <tr>\n",
       "      <th>6996</th>\n",
       "      <td>6997</td>\n",
       "      <td>41</td>\n",
       "      <td>2.0</td>\n",
       "      <td>Aadhar</td>\n",
       "      <td>681108</td>\n",
       "      <td>791040</td>\n",
       "      <td>4</td>\n",
       "      <td>4</td>\n",
       "      <td>0</td>\n",
       "      <td>1</td>\n",
       "    </tr>\n",
       "    <tr>\n",
       "      <th>6997</th>\n",
       "      <td>6998</td>\n",
       "      <td>47</td>\n",
       "      <td>2.0</td>\n",
       "      <td>Aadhar</td>\n",
       "      <td>627636</td>\n",
       "      <td>720336</td>\n",
       "      <td>35</td>\n",
       "      <td>11</td>\n",
       "      <td>0</td>\n",
       "      <td>1</td>\n",
       "    </tr>\n",
       "    <tr>\n",
       "      <th>6998</th>\n",
       "      <td>6999</td>\n",
       "      <td>39</td>\n",
       "      <td>1.0</td>\n",
       "      <td>Aadhar</td>\n",
       "      <td>654708</td>\n",
       "      <td>793860</td>\n",
       "      <td>0</td>\n",
       "      <td>0</td>\n",
       "      <td>0</td>\n",
       "      <td>1</td>\n",
       "    </tr>\n",
       "    <tr>\n",
       "      <th>6999</th>\n",
       "      <td>7000</td>\n",
       "      <td>31</td>\n",
       "      <td>1.0</td>\n",
       "      <td>Aadhar</td>\n",
       "      <td>705108</td>\n",
       "      <td>900660</td>\n",
       "      <td>0</td>\n",
       "      <td>0</td>\n",
       "      <td>0</td>\n",
       "      <td>0</td>\n",
       "    </tr>\n",
       "  </tbody>\n",
       "</table>\n",
       "</div>"
      ],
      "text/plain": [
       "      loan_id  age  education proof_submitted  loan_amount  asset_cost  \\\n",
       "6995     6996   45        2.0          Aadhar       930948     1258344   \n",
       "6996     6997   41        2.0          Aadhar       681108      791040   \n",
       "6997     6998   47        2.0          Aadhar       627636      720336   \n",
       "6998     6999   39        1.0          Aadhar       654708      793860   \n",
       "6999     7000   31        1.0          Aadhar       705108      900660   \n",
       "\n",
       "      no_of_loans  no_of_curr_loans  last_delinq_none  loan_default  \n",
       "6995            0                 0                 0             1  \n",
       "6996            4                 4                 0             1  \n",
       "6997           35                11                 0             1  \n",
       "6998            0                 0                 0             1  \n",
       "6999            0                 0                 0             0  "
      ]
     },
     "execution_count": 7,
     "metadata": {},
     "output_type": "execute_result"
    }
   ],
   "source": [
    "train_df.tail()"
   ]
  },
  {
   "cell_type": "code",
   "execution_count": 8,
   "id": "4174f83f",
   "metadata": {
    "execution": {
     "iopub.execute_input": "2022-07-26T15:51:00.171988Z",
     "iopub.status.busy": "2022-07-26T15:51:00.170895Z",
     "iopub.status.idle": "2022-07-26T15:51:00.200536Z",
     "shell.execute_reply": "2022-07-26T15:51:00.198071Z"
    },
    "papermill": {
     "duration": 0.045265,
     "end_time": "2022-07-26T15:51:00.203223",
     "exception": false,
     "start_time": "2022-07-26T15:51:00.157958",
     "status": "completed"
    },
    "tags": []
   },
   "outputs": [
    {
     "name": "stdout",
     "output_type": "stream",
     "text": [
      "<class 'pandas.core.frame.DataFrame'>\n",
      "RangeIndex: 7000 entries, 0 to 6999\n",
      "Data columns (total 10 columns):\n",
      " #   Column            Non-Null Count  Dtype  \n",
      "---  ------            --------------  -----  \n",
      " 0   loan_id           7000 non-null   int64  \n",
      " 1   age               7000 non-null   int64  \n",
      " 2   education         6755 non-null   float64\n",
      " 3   proof_submitted   7000 non-null   object \n",
      " 4   loan_amount       7000 non-null   int64  \n",
      " 5   asset_cost        7000 non-null   int64  \n",
      " 6   no_of_loans       7000 non-null   int64  \n",
      " 7   no_of_curr_loans  7000 non-null   int64  \n",
      " 8   last_delinq_none  7000 non-null   int64  \n",
      " 9   loan_default      7000 non-null   int64  \n",
      "dtypes: float64(1), int64(8), object(1)\n",
      "memory usage: 547.0+ KB\n"
     ]
    }
   ],
   "source": [
    "train_df.info()"
   ]
  },
  {
   "cell_type": "markdown",
   "id": "2d1e6ca6",
   "metadata": {
    "papermill": {
     "duration": 0.011192,
     "end_time": "2022-07-26T15:51:00.226565",
     "exception": false,
     "start_time": "2022-07-26T15:51:00.215373",
     "status": "completed"
    },
    "tags": []
   },
   "source": [
    " #   Column            Non-Null Count  Dtype  change\n",
    "---  ------            --------------  -----  -----\n",
    " 0   loan_id           7000 non-null   int64  cat\n",
    " \n",
    " 1   age               7000 non-null   int64  int\n",
    " \n",
    " 2   education         6755 non-null   float64 cat\n",
    " \n",
    " 3   proof_submitted   7000 non-null   object cat\n",
    " \n",
    " 4   loan_amount       7000 non-null   int64  int\n",
    " \n",
    " 5   asset_cost        7000 non-null   int64  int\n",
    " \n",
    " 6   no_of_loans       7000 non-null   int64  cat\n",
    " \n",
    " 7   no_of_curr_loans  7000 non-null   int64  cat\n",
    " \n",
    " 8   last_delinq_none  7000 non-null   int64  cat\n",
    " \n",
    " 9   loan_default      7000 non-null   int64  cat\n",
    " "
   ]
  },
  {
   "cell_type": "code",
   "execution_count": 9,
   "id": "7429bb3f",
   "metadata": {
    "execution": {
     "iopub.execute_input": "2022-07-26T15:51:00.251855Z",
     "iopub.status.busy": "2022-07-26T15:51:00.250726Z",
     "iopub.status.idle": "2022-07-26T15:51:00.275961Z",
     "shell.execute_reply": "2022-07-26T15:51:00.274290Z"
    },
    "papermill": {
     "duration": 0.041012,
     "end_time": "2022-07-26T15:51:00.279076",
     "exception": false,
     "start_time": "2022-07-26T15:51:00.238064",
     "status": "completed"
    },
    "tags": []
   },
   "outputs": [
    {
     "name": "stdout",
     "output_type": "stream",
     "text": [
      "<class 'pandas.core.frame.DataFrame'>\n",
      "RangeIndex: 7000 entries, 0 to 6999\n",
      "Data columns (total 10 columns):\n",
      " #   Column            Non-Null Count  Dtype   \n",
      "---  ------            --------------  -----   \n",
      " 0   loan_id           7000 non-null   category\n",
      " 1   age               7000 non-null   int64   \n",
      " 2   education         6755 non-null   category\n",
      " 3   proof_submitted   7000 non-null   category\n",
      " 4   loan_amount       7000 non-null   int64   \n",
      " 5   asset_cost        7000 non-null   int64   \n",
      " 6   no_of_loans       7000 non-null   int64   \n",
      " 7   no_of_curr_loans  7000 non-null   int64   \n",
      " 8   last_delinq_none  7000 non-null   int64   \n",
      " 9   loan_default      7000 non-null   category\n",
      "dtypes: category(4), int64(6)\n",
      "memory usage: 675.6 KB\n"
     ]
    }
   ],
   "source": [
    "cat_column = ['loan_id', 'education', 'proof_submitted','loan_default']\n",
    "for cat in cat_column:\n",
    "    train_df[cat]=train_df[cat].astype('category')\n",
    "train_df.info()"
   ]
  },
  {
   "cell_type": "code",
   "execution_count": 10,
   "id": "c7fee241",
   "metadata": {
    "execution": {
     "iopub.execute_input": "2022-07-26T15:51:00.305052Z",
     "iopub.status.busy": "2022-07-26T15:51:00.304243Z",
     "iopub.status.idle": "2022-07-26T15:51:01.210542Z",
     "shell.execute_reply": "2022-07-26T15:51:01.209527Z"
    },
    "papermill": {
     "duration": 0.92199,
     "end_time": "2022-07-26T15:51:01.213036",
     "exception": false,
     "start_time": "2022-07-26T15:51:00.291046",
     "status": "completed"
    },
    "tags": []
   },
   "outputs": [
    {
     "data": {
      "text/plain": [
       "<AxesSubplot:>"
      ]
     },
     "execution_count": 10,
     "metadata": {},
     "output_type": "execute_result"
    },
    {
     "data": {
      "image/png": "[encoded data removed]",
      "text/plain": [
       "<Figure size 1728x720 with 3 Axes>"
      ]
     },
     "metadata": {
      "needs_background": "light"
     },
     "output_type": "display_data"
    }
   ],
   "source": [
    "msno.bar(train_df)\n",
    "# missing value present in education"
   ]
  },
  {
   "cell_type": "code",
   "execution_count": 11,
   "id": "0690d132",
   "metadata": {
    "execution": {
     "iopub.execute_input": "2022-07-26T15:51:01.240996Z",
     "iopub.status.busy": "2022-07-26T15:51:01.240151Z",
     "iopub.status.idle": "2022-07-26T15:51:01.411485Z",
     "shell.execute_reply": "2022-07-26T15:51:01.410714Z"
    },
    "papermill": {
     "duration": 0.188017,
     "end_time": "2022-07-26T15:51:01.413912",
     "exception": false,
     "start_time": "2022-07-26T15:51:01.225895",
     "status": "completed"
    },
    "tags": []
   },
   "outputs": [
    {
     "data": {
      "text/plain": [
       "<AxesSubplot:>"
      ]
     },
     "execution_count": 11,
     "metadata": {},
     "output_type": "execute_result"
    },
    {
     "data": {
      "image/png": "[encoded data removed]",
      "text/plain": [
       "<Figure size 432x288 with 1 Axes>"
      ]
     },
     "metadata": {
      "needs_background": "light"
     },
     "output_type": "display_data"
    }
   ],
   "source": [
    "train_df['loan_default'].value_counts().plot(kind ='bar')"
   ]
  },
  {
   "cell_type": "code",
   "execution_count": 12,
   "id": "eeecebb9",
   "metadata": {
    "execution": {
     "iopub.execute_input": "2022-07-26T15:51:01.441731Z",
     "iopub.status.busy": "2022-07-26T15:51:01.441298Z",
     "iopub.status.idle": "2022-07-26T15:51:01.613618Z",
     "shell.execute_reply": "2022-07-26T15:51:01.612237Z"
    },
    "papermill": {
     "duration": 0.190174,
     "end_time": "2022-07-26T15:51:01.617106",
     "exception": false,
     "start_time": "2022-07-26T15:51:01.426932",
     "status": "completed"
    },
    "tags": []
   },
   "outputs": [
    {
     "data": {
      "text/plain": [
       "<AxesSubplot:>"
      ]
     },
     "execution_count": 12,
     "metadata": {},
     "output_type": "execute_result"
    },
    {
     "data": {
      "image/png": "[encoded data removed]",
      "text/plain": [
       "<Figure size 432x288 with 1 Axes>"
      ]
     },
     "metadata": {
      "needs_background": "light"
     },
     "output_type": "display_data"
    }
   ],
   "source": [
    "train_df['education'].value_counts().plot(kind ='bar')"
   ]
  },
  {
   "cell_type": "code",
   "execution_count": 13,
   "id": "f9545e99",
   "metadata": {
    "execution": {
     "iopub.execute_input": "2022-07-26T15:51:01.646933Z",
     "iopub.status.busy": "2022-07-26T15:51:01.646280Z",
     "iopub.status.idle": "2022-07-26T15:51:01.843914Z",
     "shell.execute_reply": "2022-07-26T15:51:01.843003Z"
    },
    "papermill": {
     "duration": 0.215889,
     "end_time": "2022-07-26T15:51:01.846431",
     "exception": false,
     "start_time": "2022-07-26T15:51:01.630542",
     "status": "completed"
    },
    "tags": []
   },
   "outputs": [
    {
     "data": {
      "text/plain": [
       "<AxesSubplot:ylabel='Frequency'>"
      ]
     },
     "execution_count": 13,
     "metadata": {},
     "output_type": "execute_result"
    },
    {
     "data": {
      "image/png": "[encoded data removed]",
      "text/plain": [
       "<Figure size 432x288 with 1 Axes>"
      ]
     },
     "metadata": {
      "needs_background": "light"
     },
     "output_type": "display_data"
    }
   ],
   "source": [
    "train_df['no_of_curr_loans'].value_counts().plot(kind ='hist')"
   ]
  },
  {
   "cell_type": "code",
   "execution_count": 14,
   "id": "04fda833",
   "metadata": {
    "execution": {
     "iopub.execute_input": "2022-07-26T15:51:01.877059Z",
     "iopub.status.busy": "2022-07-26T15:51:01.875991Z",
     "iopub.status.idle": "2022-07-26T15:51:01.882609Z",
     "shell.execute_reply": "2022-07-26T15:51:01.881179Z"
    },
    "papermill": {
     "duration": 0.02416,
     "end_time": "2022-07-26T15:51:01.885067",
     "exception": false,
     "start_time": "2022-07-26T15:51:01.860907",
     "status": "completed"
    },
    "tags": []
   },
   "outputs": [],
   "source": [
    "numeric_cols = [col for col in train_df.columns if \n",
    "                                train_df[col].dtype in ['int64', 'float64']]"
   ]
  },
  {
   "cell_type": "code",
   "execution_count": 15,
   "id": "f1121233",
   "metadata": {
    "execution": {
     "iopub.execute_input": "2022-07-26T15:51:01.914941Z",
     "iopub.status.busy": "2022-07-26T15:51:01.914517Z",
     "iopub.status.idle": "2022-07-26T15:51:01.921921Z",
     "shell.execute_reply": "2022-07-26T15:51:01.920854Z"
    },
    "papermill": {
     "duration": 0.025102,
     "end_time": "2022-07-26T15:51:01.924148",
     "exception": false,
     "start_time": "2022-07-26T15:51:01.899046",
     "status": "completed"
    },
    "tags": []
   },
   "outputs": [
    {
     "data": {
      "text/plain": [
       "['age',\n",
       " 'loan_amount',\n",
       " 'asset_cost',\n",
       " 'no_of_loans',\n",
       " 'no_of_curr_loans',\n",
       " 'last_delinq_none']"
      ]
     },
     "execution_count": 15,
     "metadata": {},
     "output_type": "execute_result"
    }
   ],
   "source": [
    "numeric_cols"
   ]
  },
  {
   "cell_type": "code",
   "execution_count": 16,
   "id": "6c4c7089",
   "metadata": {
    "execution": {
     "iopub.execute_input": "2022-07-26T15:51:01.954526Z",
     "iopub.status.busy": "2022-07-26T15:51:01.953585Z",
     "iopub.status.idle": "2022-07-26T15:51:03.466987Z",
     "shell.execute_reply": "2022-07-26T15:51:03.465738Z"
    },
    "papermill": {
     "duration": 1.531624,
     "end_time": "2022-07-26T15:51:03.469669",
     "exception": false,
     "start_time": "2022-07-26T15:51:01.938045",
     "status": "completed"
    },
    "tags": []
   },
   "outputs": [
    {
     "data": {
      "image/png": "[encoded data removed]",
      "text/plain": [
       "<Figure size 432x288 with 1 Axes>"
      ]
     },
     "metadata": {
      "needs_background": "light"
     },
     "output_type": "display_data"
    },
    {
     "data": {
      "image/png": "[encoded data removed]",
      "text/plain": [
       "<Figure size 432x288 with 1 Axes>"
      ]
     },
     "metadata": {
      "needs_background": "light"
     },
     "output_type": "display_data"
    },
    {
     "data": {
      "image/png": "[encoded data removed]",
      "text/plain": [
       "<Figure size 432x288 with 1 Axes>"
      ]
     },
     "metadata": {
      "needs_background": "light"
     },
     "output_type": "display_data"
    },
    {
     "data": {
      "image/png": "[encoded data removed]",
      "text/plain": [
       "<Figure size 432x288 with 1 Axes>"
      ]
     },
     "metadata": {
      "needs_background": "light"
     },
     "output_type": "display_data"
    },
    {
     "data": {
      "image/png": "[encoded data removed]",
      "text/plain": [
       "<Figure size 432x288 with 1 Axes>"
      ]
     },
     "metadata": {
      "needs_background": "light"
     },
     "output_type": "display_data"
    },
    {
     "data": {
      "image/png": "[encoded data removed]",
      "text/plain": [
       "<Figure size 432x288 with 1 Axes>"
      ]
     },
     "metadata": {
      "needs_background": "light"
     },
     "output_type": "display_data"
    }
   ],
   "source": [
    "for num in numeric_cols:\n",
    "    plt.figure()\n",
    "    sns.histplot(data=train_df, x=num, bins=8,kde=True)"
   ]
  },
  {
   "cell_type": "code",
   "execution_count": 17,
   "id": "ee24f965",
   "metadata": {
    "execution": {
     "iopub.execute_input": "2022-07-26T15:51:03.503109Z",
     "iopub.status.busy": "2022-07-26T15:51:03.502677Z",
     "iopub.status.idle": "2022-07-26T15:51:03.512383Z",
     "shell.execute_reply": "2022-07-26T15:51:03.511088Z"
    },
    "papermill": {
     "duration": 0.029554,
     "end_time": "2022-07-26T15:51:03.514976",
     "exception": false,
     "start_time": "2022-07-26T15:51:03.485422",
     "status": "completed"
    },
    "tags": []
   },
   "outputs": [],
   "source": [
    "low_cardinality_cols = [col for col in train_df.columns if \n",
    "                                train_df[col].nunique() < 10 and\n",
    "                                train_df[col].dtype in ['object', 'category']]"
   ]
  },
  {
   "cell_type": "code",
   "execution_count": 18,
   "id": "066ae999",
   "metadata": {
    "execution": {
     "iopub.execute_input": "2022-07-26T15:51:03.548435Z",
     "iopub.status.busy": "2022-07-26T15:51:03.548055Z",
     "iopub.status.idle": "2022-07-26T15:51:03.996102Z",
     "shell.execute_reply": "2022-07-26T15:51:03.994813Z"
    },
    "papermill": {
     "duration": 0.46834,
     "end_time": "2022-07-26T15:51:03.998881",
     "exception": false,
     "start_time": "2022-07-26T15:51:03.530541",
     "status": "completed"
    },
    "tags": []
   },
   "outputs": [
    {
     "data": {
      "image/png": "[encoded data removed]",
      "text/plain": [
       "<Figure size 432x288 with 1 Axes>"
      ]
     },
     "metadata": {
      "needs_background": "light"
     },
     "output_type": "display_data"
    },
    {
     "data": {
      "image/png": "[encoded data removed]",
      "text/plain": [
       "<Figure size 432x288 with 1 Axes>"
      ]
     },
     "metadata": {
      "needs_background": "light"
     },
     "output_type": "display_data"
    },
    {
     "data": {
      "image/png": "[encoded data removed]",
      "text/plain": [
       "<Figure size 432x288 with 1 Axes>"
      ]
     },
     "metadata": {
      "needs_background": "light"
     },
     "output_type": "display_data"
    }
   ],
   "source": [
    "for cat in low_cardinality_cols:\n",
    "    plt.figure()\n",
    "    sns.countplot(data=train_df, x=cat)"
   ]
  },
  {
   "cell_type": "code",
   "execution_count": 19,
   "id": "304c6b55",
   "metadata": {
    "execution": {
     "iopub.execute_input": "2022-07-26T15:51:04.035556Z",
     "iopub.status.busy": "2022-07-26T15:51:04.034841Z",
     "iopub.status.idle": "2022-07-26T15:51:04.041047Z",
     "shell.execute_reply": "2022-07-26T15:51:04.040198Z"
    },
    "papermill": {
     "duration": 0.027737,
     "end_time": "2022-07-26T15:51:04.043734",
     "exception": false,
     "start_time": "2022-07-26T15:51:04.015997",
     "status": "completed"
    },
    "tags": []
   },
   "outputs": [],
   "source": [
    "train_df=train_df.drop('loan_id',axis=1)"
   ]
  },
  {
   "cell_type": "code",
   "execution_count": 20,
   "id": "2a68bb97",
   "metadata": {
    "execution": {
     "iopub.execute_input": "2022-07-26T15:51:04.079542Z",
     "iopub.status.busy": "2022-07-26T15:51:04.079038Z",
     "iopub.status.idle": "2022-07-26T15:51:04.085175Z",
     "shell.execute_reply": "2022-07-26T15:51:04.084355Z"
    },
    "papermill": {
     "duration": 0.026261,
     "end_time": "2022-07-26T15:51:04.087405",
     "exception": false,
     "start_time": "2022-07-26T15:51:04.061144",
     "status": "completed"
    },
    "tags": []
   },
   "outputs": [],
   "source": [
    "X=train_df.drop('loan_default',axis=1)\n",
    "y=train_df.loan_default"
   ]
  },
  {
   "cell_type": "code",
   "execution_count": null,
   "id": "b7727b99",
   "metadata": {
    "papermill": {
     "duration": 0.015672,
     "end_time": "2022-07-26T15:51:04.119440",
     "exception": false,
     "start_time": "2022-07-26T15:51:04.103768",
     "status": "completed"
    },
    "tags": []
   },
   "outputs": [],
   "source": []
  },
  {
   "cell_type": "code",
   "execution_count": 21,
   "id": "3e430d7d",
   "metadata": {
    "execution": {
     "iopub.execute_input": "2022-07-26T15:51:04.154971Z",
     "iopub.status.busy": "2022-07-26T15:51:04.154068Z",
     "iopub.status.idle": "2022-07-26T15:51:04.164361Z",
     "shell.execute_reply": "2022-07-26T15:51:04.163350Z"
    },
    "papermill": {
     "duration": 0.031052,
     "end_time": "2022-07-26T15:51:04.166822",
     "exception": false,
     "start_time": "2022-07-26T15:51:04.135770",
     "status": "completed"
    },
    "tags": []
   },
   "outputs": [],
   "source": [
    "ohe_train_df =pd.get_dummies(X)"
   ]
  },
  {
   "cell_type": "code",
   "execution_count": 22,
   "id": "0ceb7ef2",
   "metadata": {
    "execution": {
     "iopub.execute_input": "2022-07-26T15:51:04.201673Z",
     "iopub.status.busy": "2022-07-26T15:51:04.200978Z",
     "iopub.status.idle": "2022-07-26T15:51:04.218548Z",
     "shell.execute_reply": "2022-07-26T15:51:04.216980Z"
    },
    "papermill": {
     "duration": 0.03746,
     "end_time": "2022-07-26T15:51:04.220844",
     "exception": false,
     "start_time": "2022-07-26T15:51:04.183384",
     "status": "completed"
    },
    "tags": []
   },
   "outputs": [
    {
     "data": {
      "text/html": [
       "<div>\n",
       "<style scoped>\n",
       "    .dataframe tbody tr th:only-of-type {\n",
       "        vertical-align: middle;\n",
       "    }\n",
       "\n",
       "    .dataframe tbody tr th {\n",
       "        vertical-align: top;\n",
       "    }\n",
       "\n",
       "    .dataframe thead th {\n",
       "        text-align: right;\n",
       "    }\n",
       "</style>\n",
       "<table border=\"1\" class=\"dataframe\">\n",
       "  <thead>\n",
       "    <tr style=\"text-align: right;\">\n",
       "      <th></th>\n",
       "      <th>age</th>\n",
       "      <th>loan_amount</th>\n",
       "      <th>asset_cost</th>\n",
       "      <th>no_of_loans</th>\n",
       "      <th>no_of_curr_loans</th>\n",
       "      <th>last_delinq_none</th>\n",
       "      <th>education_1.0</th>\n",
       "      <th>education_2.0</th>\n",
       "      <th>proof_submitted_Aadhar</th>\n",
       "      <th>proof_submitted_Driving</th>\n",
       "      <th>proof_submitted_PAN</th>\n",
       "      <th>proof_submitted_Passport</th>\n",
       "      <th>proof_submitted_VoterID</th>\n",
       "    </tr>\n",
       "  </thead>\n",
       "  <tbody>\n",
       "    <tr>\n",
       "      <th>0</th>\n",
       "      <td>27</td>\n",
       "      <td>504264</td>\n",
       "      <td>820920</td>\n",
       "      <td>2</td>\n",
       "      <td>2</td>\n",
       "      <td>0</td>\n",
       "      <td>1</td>\n",
       "      <td>0</td>\n",
       "      <td>1</td>\n",
       "      <td>0</td>\n",
       "      <td>0</td>\n",
       "      <td>0</td>\n",
       "      <td>0</td>\n",
       "    </tr>\n",
       "    <tr>\n",
       "      <th>1</th>\n",
       "      <td>48</td>\n",
       "      <td>728556</td>\n",
       "      <td>831444</td>\n",
       "      <td>6</td>\n",
       "      <td>2</td>\n",
       "      <td>0</td>\n",
       "      <td>1</td>\n",
       "      <td>0</td>\n",
       "      <td>1</td>\n",
       "      <td>0</td>\n",
       "      <td>0</td>\n",
       "      <td>0</td>\n",
       "      <td>0</td>\n",
       "    </tr>\n",
       "    <tr>\n",
       "      <th>2</th>\n",
       "      <td>30</td>\n",
       "      <td>642936</td>\n",
       "      <td>826092</td>\n",
       "      <td>0</td>\n",
       "      <td>0</td>\n",
       "      <td>0</td>\n",
       "      <td>0</td>\n",
       "      <td>1</td>\n",
       "      <td>0</td>\n",
       "      <td>0</td>\n",
       "      <td>0</td>\n",
       "      <td>0</td>\n",
       "      <td>1</td>\n",
       "    </tr>\n",
       "    <tr>\n",
       "      <th>3</th>\n",
       "      <td>28</td>\n",
       "      <td>746556</td>\n",
       "      <td>930924</td>\n",
       "      <td>0</td>\n",
       "      <td>0</td>\n",
       "      <td>0</td>\n",
       "      <td>1</td>\n",
       "      <td>0</td>\n",
       "      <td>1</td>\n",
       "      <td>0</td>\n",
       "      <td>0</td>\n",
       "      <td>0</td>\n",
       "      <td>0</td>\n",
       "    </tr>\n",
       "    <tr>\n",
       "      <th>4</th>\n",
       "      <td>29</td>\n",
       "      <td>1139880</td>\n",
       "      <td>1902000</td>\n",
       "      <td>0</td>\n",
       "      <td>0</td>\n",
       "      <td>0</td>\n",
       "      <td>1</td>\n",
       "      <td>0</td>\n",
       "      <td>1</td>\n",
       "      <td>0</td>\n",
       "      <td>0</td>\n",
       "      <td>0</td>\n",
       "      <td>0</td>\n",
       "    </tr>\n",
       "    <tr>\n",
       "      <th>...</th>\n",
       "      <td>...</td>\n",
       "      <td>...</td>\n",
       "      <td>...</td>\n",
       "      <td>...</td>\n",
       "      <td>...</td>\n",
       "      <td>...</td>\n",
       "      <td>...</td>\n",
       "      <td>...</td>\n",
       "      <td>...</td>\n",
       "      <td>...</td>\n",
       "      <td>...</td>\n",
       "      <td>...</td>\n",
       "      <td>...</td>\n",
       "    </tr>\n",
       "    <tr>\n",
       "      <th>6995</th>\n",
       "      <td>45</td>\n",
       "      <td>930948</td>\n",
       "      <td>1258344</td>\n",
       "      <td>0</td>\n",
       "      <td>0</td>\n",
       "      <td>0</td>\n",
       "      <td>0</td>\n",
       "      <td>1</td>\n",
       "      <td>1</td>\n",
       "      <td>0</td>\n",
       "      <td>0</td>\n",
       "      <td>0</td>\n",
       "      <td>0</td>\n",
       "    </tr>\n",
       "    <tr>\n",
       "      <th>6996</th>\n",
       "      <td>41</td>\n",
       "      <td>681108</td>\n",
       "      <td>791040</td>\n",
       "      <td>4</td>\n",
       "      <td>4</td>\n",
       "      <td>0</td>\n",
       "      <td>0</td>\n",
       "      <td>1</td>\n",
       "      <td>1</td>\n",
       "      <td>0</td>\n",
       "      <td>0</td>\n",
       "      <td>0</td>\n",
       "      <td>0</td>\n",
       "    </tr>\n",
       "    <tr>\n",
       "      <th>6997</th>\n",
       "      <td>47</td>\n",
       "      <td>627636</td>\n",
       "      <td>720336</td>\n",
       "      <td>35</td>\n",
       "      <td>11</td>\n",
       "      <td>0</td>\n",
       "      <td>0</td>\n",
       "      <td>1</td>\n",
       "      <td>1</td>\n",
       "      <td>0</td>\n",
       "      <td>0</td>\n",
       "      <td>0</td>\n",
       "      <td>0</td>\n",
       "    </tr>\n",
       "    <tr>\n",
       "      <th>6998</th>\n",
       "      <td>39</td>\n",
       "      <td>654708</td>\n",
       "      <td>793860</td>\n",
       "      <td>0</td>\n",
       "      <td>0</td>\n",
       "      <td>0</td>\n",
       "      <td>1</td>\n",
       "      <td>0</td>\n",
       "      <td>1</td>\n",
       "      <td>0</td>\n",
       "      <td>0</td>\n",
       "      <td>0</td>\n",
       "      <td>0</td>\n",
       "    </tr>\n",
       "    <tr>\n",
       "      <th>6999</th>\n",
       "      <td>31</td>\n",
       "      <td>705108</td>\n",
       "      <td>900660</td>\n",
       "      <td>0</td>\n",
       "      <td>0</td>\n",
       "      <td>0</td>\n",
       "      <td>1</td>\n",
       "      <td>0</td>\n",
       "      <td>1</td>\n",
       "      <td>0</td>\n",
       "      <td>0</td>\n",
       "      <td>0</td>\n",
       "      <td>0</td>\n",
       "    </tr>\n",
       "  </tbody>\n",
       "</table>\n",
       "<p>7000 rows × 13 columns</p>\n",
       "</div>"
      ],
      "text/plain": [
       "      age  loan_amount  asset_cost  no_of_loans  no_of_curr_loans  \\\n",
       "0      27       504264      820920            2                 2   \n",
       "1      48       728556      831444            6                 2   \n",
       "2      30       642936      826092            0                 0   \n",
       "3      28       746556      930924            0                 0   \n",
       "4      29      1139880     1902000            0                 0   \n",
       "...   ...          ...         ...          ...               ...   \n",
       "6995   45       930948     1258344            0                 0   \n",
       "6996   41       681108      791040            4                 4   \n",
       "6997   47       627636      720336           35                11   \n",
       "6998   39       654708      793860            0                 0   \n",
       "6999   31       705108      900660            0                 0   \n",
       "\n",
       "      last_delinq_none  education_1.0  education_2.0  proof_submitted_Aadhar  \\\n",
       "0                    0              1              0                       1   \n",
       "1                    0              1              0                       1   \n",
       "2                    0              0              1                       0   \n",
       "3                    0              1              0                       1   \n",
       "4                    0              1              0                       1   \n",
       "...                ...            ...            ...                     ...   \n",
       "6995                 0              0              1                       1   \n",
       "6996                 0              0              1                       1   \n",
       "6997                 0              0              1                       1   \n",
       "6998                 0              1              0                       1   \n",
       "6999                 0              1              0                       1   \n",
       "\n",
       "      proof_submitted_Driving  proof_submitted_PAN  proof_submitted_Passport  \\\n",
       "0                           0                    0                         0   \n",
       "1                           0                    0                         0   \n",
       "2                           0                    0                         0   \n",
       "3                           0                    0                         0   \n",
       "4                           0                    0                         0   \n",
       "...                       ...                  ...                       ...   \n",
       "6995                        0                    0                         0   \n",
       "6996                        0                    0                         0   \n",
       "6997                        0                    0                         0   \n",
       "6998                        0                    0                         0   \n",
       "6999                        0                    0                         0   \n",
       "\n",
       "      proof_submitted_VoterID  \n",
       "0                           0  \n",
       "1                           0  \n",
       "2                           1  \n",
       "3                           0  \n",
       "4                           0  \n",
       "...                       ...  \n",
       "6995                        0  \n",
       "6996                        0  \n",
       "6997                        0  \n",
       "6998                        0  \n",
       "6999                        0  \n",
       "\n",
       "[7000 rows x 13 columns]"
      ]
     },
     "execution_count": 22,
     "metadata": {},
     "output_type": "execute_result"
    }
   ],
   "source": [
    "ohe_train_df"
   ]
  },
  {
   "cell_type": "code",
   "execution_count": 23,
   "id": "504a26ba",
   "metadata": {
    "execution": {
     "iopub.execute_input": "2022-07-26T15:51:04.256992Z",
     "iopub.status.busy": "2022-07-26T15:51:04.256266Z",
     "iopub.status.idle": "2022-07-26T15:51:04.796916Z",
     "shell.execute_reply": "2022-07-26T15:51:04.795565Z"
    },
    "papermill": {
     "duration": 0.561638,
     "end_time": "2022-07-26T15:51:04.799739",
     "exception": false,
     "start_time": "2022-07-26T15:51:04.238101",
     "status": "completed"
    },
    "tags": []
   },
   "outputs": [],
   "source": [
    "    from sklearn.preprocessing import LabelEncoder\n",
    "    from sklearn.impute import KNNImputer"
   ]
  },
  {
   "cell_type": "code",
   "execution_count": 24,
   "id": "79b41722",
   "metadata": {
    "execution": {
     "iopub.execute_input": "2022-07-26T15:51:04.836963Z",
     "iopub.status.busy": "2022-07-26T15:51:04.836383Z",
     "iopub.status.idle": "2022-07-26T15:51:04.850419Z",
     "shell.execute_reply": "2022-07-26T15:51:04.849593Z"
    },
    "papermill": {
     "duration": 0.03512,
     "end_time": "2022-07-26T15:51:04.852836",
     "exception": false,
     "start_time": "2022-07-26T15:51:04.817716",
     "status": "completed"
    },
    "tags": []
   },
   "outputs": [
    {
     "data": {
      "text/plain": [
       "array([[2.70000e+01, 5.04264e+05, 8.20920e+05, ..., 0.00000e+00,\n",
       "        0.00000e+00, 0.00000e+00],\n",
       "       [4.80000e+01, 7.28556e+05, 8.31444e+05, ..., 0.00000e+00,\n",
       "        0.00000e+00, 0.00000e+00],\n",
       "       [3.00000e+01, 6.42936e+05, 8.26092e+05, ..., 0.00000e+00,\n",
       "        0.00000e+00, 1.00000e+00],\n",
       "       ...,\n",
       "       [4.70000e+01, 6.27636e+05, 7.20336e+05, ..., 0.00000e+00,\n",
       "        0.00000e+00, 0.00000e+00],\n",
       "       [3.90000e+01, 6.54708e+05, 7.93860e+05, ..., 0.00000e+00,\n",
       "        0.00000e+00, 0.00000e+00],\n",
       "       [3.10000e+01, 7.05108e+05, 9.00660e+05, ..., 0.00000e+00,\n",
       "        0.00000e+00, 0.00000e+00]])"
      ]
     },
     "execution_count": 24,
     "metadata": {},
     "output_type": "execute_result"
    }
   ],
   "source": [
    "imputer = KNNImputer(n_neighbors=1)\n",
    "imputer.fit_transform(ohe_train_df)"
   ]
  },
  {
   "cell_type": "code",
   "execution_count": 25,
   "id": "fd783552",
   "metadata": {
    "execution": {
     "iopub.execute_input": "2022-07-26T15:51:04.888872Z",
     "iopub.status.busy": "2022-07-26T15:51:04.888101Z",
     "iopub.status.idle": "2022-07-26T15:51:04.896676Z",
     "shell.execute_reply": "2022-07-26T15:51:04.895732Z"
    },
    "papermill": {
     "duration": 0.029157,
     "end_time": "2022-07-26T15:51:04.899007",
     "exception": false,
     "start_time": "2022-07-26T15:51:04.869850",
     "status": "completed"
    },
    "tags": []
   },
   "outputs": [
    {
     "data": {
      "text/plain": [
       "age                         0\n",
       "loan_amount                 0\n",
       "asset_cost                  0\n",
       "no_of_loans                 0\n",
       "no_of_curr_loans            0\n",
       "last_delinq_none            0\n",
       "education_1.0               0\n",
       "education_2.0               0\n",
       "proof_submitted_Aadhar      0\n",
       "proof_submitted_Driving     0\n",
       "proof_submitted_PAN         0\n",
       "proof_submitted_Passport    0\n",
       "proof_submitted_VoterID     0\n",
       "dtype: int64"
      ]
     },
     "execution_count": 25,
     "metadata": {},
     "output_type": "execute_result"
    }
   ],
   "source": [
    "ohe_train_df.isnull().sum()"
   ]
  },
  {
   "cell_type": "code",
   "execution_count": 26,
   "id": "385b0064",
   "metadata": {
    "execution": {
     "iopub.execute_input": "2022-07-26T15:51:04.936094Z",
     "iopub.status.busy": "2022-07-26T15:51:04.935361Z",
     "iopub.status.idle": "2022-07-26T15:51:04.943043Z",
     "shell.execute_reply": "2022-07-26T15:51:04.942066Z"
    },
    "papermill": {
     "duration": 0.02929,
     "end_time": "2022-07-26T15:51:04.945497",
     "exception": false,
     "start_time": "2022-07-26T15:51:04.916207",
     "status": "completed"
    },
    "tags": []
   },
   "outputs": [],
   "source": [
    "from sklearn.model_selection import train_test_split\n",
    "X_train, X_test, y_train, y_test = train_test_split(\n",
    "     ohe_train_df, y, test_size=0.25, random_state=42)"
   ]
  },
  {
   "cell_type": "code",
   "execution_count": 27,
   "id": "1b0688dd",
   "metadata": {
    "execution": {
     "iopub.execute_input": "2022-07-26T15:51:04.982073Z",
     "iopub.status.busy": "2022-07-26T15:51:04.981354Z",
     "iopub.status.idle": "2022-07-26T15:51:14.061048Z",
     "shell.execute_reply": "2022-07-26T15:51:14.059847Z"
    },
    "papermill": {
     "duration": 9.101022,
     "end_time": "2022-07-26T15:51:14.064256",
     "exception": false,
     "start_time": "2022-07-26T15:51:04.963234",
     "status": "completed"
    },
    "tags": []
   },
   "outputs": [],
   "source": [
    "from sklearn.ensemble import RandomForestClassifier\n",
    "clf = RandomForestClassifier(n_estimators = 700, max_depth = 70, max_features = 7, bootstrap = True, random_state=0)\n",
    "clf.fit(X_train, y_train)\n",
    "y_pred=clf.predict(X_test)"
   ]
  },
  {
   "cell_type": "code",
   "execution_count": 28,
   "id": "a1c1dbd6",
   "metadata": {
    "execution": {
     "iopub.execute_input": "2022-07-26T15:51:14.101086Z",
     "iopub.status.busy": "2022-07-26T15:51:14.100122Z",
     "iopub.status.idle": "2022-07-26T15:51:14.112384Z",
     "shell.execute_reply": "2022-07-26T15:51:14.111110Z"
    },
    "papermill": {
     "duration": 0.033896,
     "end_time": "2022-07-26T15:51:14.115277",
     "exception": false,
     "start_time": "2022-07-26T15:51:14.081381",
     "status": "completed"
    },
    "tags": []
   },
   "outputs": [
    {
     "data": {
      "text/plain": [
       "array([[820, 265],\n",
       "       [460, 205]])"
      ]
     },
     "execution_count": 28,
     "metadata": {},
     "output_type": "execute_result"
    }
   ],
   "source": [
    "# Create confusion matrix\n",
    "from sklearn.metrics import confusion_matrix, f1_score, accuracy_score\n",
    "confusion_matrix(y_test, y_pred)"
   ]
  },
  {
   "cell_type": "code",
   "execution_count": 29,
   "id": "df7dab76",
   "metadata": {
    "execution": {
     "iopub.execute_input": "2022-07-26T15:51:14.151877Z",
     "iopub.status.busy": "2022-07-26T15:51:14.151060Z",
     "iopub.status.idle": "2022-07-26T15:51:14.159145Z",
     "shell.execute_reply": "2022-07-26T15:51:14.158237Z"
    },
    "papermill": {
     "duration": 0.02903,
     "end_time": "2022-07-26T15:51:14.161413",
     "exception": false,
     "start_time": "2022-07-26T15:51:14.132383",
     "status": "completed"
    },
    "tags": []
   },
   "outputs": [
    {
     "data": {
      "text/plain": [
       "0.5857142857142857"
      ]
     },
     "execution_count": 29,
     "metadata": {},
     "output_type": "execute_result"
    }
   ],
   "source": [
    "# Display accuracy score\n",
    "accuracy_score(y_test, y_pred)"
   ]
  },
  {
   "cell_type": "code",
   "execution_count": 30,
   "id": "58d2fda0",
   "metadata": {
    "execution": {
     "iopub.execute_input": "2022-07-26T15:51:14.198462Z",
     "iopub.status.busy": "2022-07-26T15:51:14.197669Z",
     "iopub.status.idle": "2022-07-26T15:51:14.207249Z",
     "shell.execute_reply": "2022-07-26T15:51:14.206298Z"
    },
    "papermill": {
     "duration": 0.030846,
     "end_time": "2022-07-26T15:51:14.209587",
     "exception": false,
     "start_time": "2022-07-26T15:51:14.178741",
     "status": "completed"
    },
    "tags": []
   },
   "outputs": [
    {
     "data": {
      "text/plain": [
       "0.3612334801762114"
      ]
     },
     "execution_count": 30,
     "metadata": {},
     "output_type": "execute_result"
    }
   ],
   "source": [
    "# Display F1 score\n",
    "f1_score(y_test,y_pred)"
   ]
  },
  {
   "cell_type": "code",
   "execution_count": 31,
   "id": "5099cf51",
   "metadata": {
    "execution": {
     "iopub.execute_input": "2022-07-26T15:51:14.245793Z",
     "iopub.status.busy": "2022-07-26T15:51:14.245026Z",
     "iopub.status.idle": "2022-07-26T15:51:14.250816Z",
     "shell.execute_reply": "2022-07-26T15:51:14.249697Z"
    },
    "papermill": {
     "duration": 0.026838,
     "end_time": "2022-07-26T15:51:14.253427",
     "exception": false,
     "start_time": "2022-07-26T15:51:14.226589",
     "status": "completed"
    },
    "tags": []
   },
   "outputs": [],
   "source": [
    "import matplotlib.pyplot as plt\n",
    "from sklearn.svm import SVC\n",
    "from sklearn.ensemble import RandomForestClassifier\n",
    "from sklearn.metrics import RocCurveDisplay"
   ]
  },
  {
   "cell_type": "code",
   "execution_count": 32,
   "id": "51db55fb",
   "metadata": {
    "execution": {
     "iopub.execute_input": "2022-07-26T15:51:14.290118Z",
     "iopub.status.busy": "2022-07-26T15:51:14.289329Z",
     "iopub.status.idle": "2022-07-26T15:51:14.832165Z",
     "shell.execute_reply": "2022-07-26T15:51:14.831126Z"
    },
    "papermill": {
     "duration": 0.563745,
     "end_time": "2022-07-26T15:51:14.834472",
     "exception": false,
     "start_time": "2022-07-26T15:51:14.270727",
     "status": "completed"
    },
    "tags": []
   },
   "outputs": [
    {
     "data": {
      "image/png": "[encoded data removed]",
      "text/plain": [
       "<Figure size 432x288 with 1 Axes>"
      ]
     },
     "metadata": {
      "needs_background": "light"
     },
     "output_type": "display_data"
    }
   ],
   "source": [
    "svc_disp = RocCurveDisplay.from_estimator(clf, X_test, y_test)\n",
    "plt.show()"
   ]
  },
  {
   "cell_type": "code",
   "execution_count": null,
   "id": "01880614",
   "metadata": {
    "execution": {
     "iopub.execute_input": "2022-07-26T15:47:37.112494Z",
     "iopub.status.busy": "2022-07-26T15:47:37.112100Z",
     "iopub.status.idle": "2022-07-26T15:47:37.118061Z",
     "shell.execute_reply": "2022-07-26T15:47:37.116904Z",
     "shell.execute_reply.started": "2022-07-26T15:47:37.112459Z"
    },
    "papermill": {
     "duration": 0.01786,
     "end_time": "2022-07-26T15:51:14.871389",
     "exception": false,
     "start_time": "2022-07-26T15:51:14.853529",
     "status": "completed"
    },
    "tags": []
   },
   "outputs": [],
   "source": []
  },
  {
   "cell_type": "code",
   "execution_count": 33,
   "id": "945e6cc5",
   "metadata": {
    "execution": {
     "iopub.execute_input": "2022-07-26T15:51:14.909216Z",
     "iopub.status.busy": "2022-07-26T15:51:14.908816Z",
     "iopub.status.idle": "2022-07-26T15:51:15.507371Z",
     "shell.execute_reply": "2022-07-26T15:51:15.506467Z"
    },
    "papermill": {
     "duration": 0.620216,
     "end_time": "2022-07-26T15:51:15.509585",
     "exception": false,
     "start_time": "2022-07-26T15:51:14.889369",
     "status": "completed"
    },
    "tags": []
   },
   "outputs": [
    {
     "data": {
      "image/png": "[encoded data removed]",
      "text/plain": [
       "<Figure size 432x288 with 1 Axes>"
      ]
     },
     "metadata": {
      "needs_background": "light"
     },
     "output_type": "display_data"
    }
   ],
   "source": [
    "ax = plt.gca()\n",
    "rfc_disp = RocCurveDisplay.from_estimator(clf, X_test, y_test, ax=ax, alpha=0.8)\n",
    "svc_disp.plot(ax=ax, alpha=0.8)\n",
    "plt.show()"
   ]
  },
  {
   "cell_type": "code",
   "execution_count": 34,
   "id": "426b1a9f",
   "metadata": {
    "execution": {
     "iopub.execute_input": "2022-07-26T15:51:15.548455Z",
     "iopub.status.busy": "2022-07-26T15:51:15.547451Z",
     "iopub.status.idle": "2022-07-26T15:51:15.552735Z",
     "shell.execute_reply": "2022-07-26T15:51:15.551483Z"
    },
    "papermill": {
     "duration": 0.026897,
     "end_time": "2022-07-26T15:51:15.554788",
     "exception": false,
     "start_time": "2022-07-26T15:51:15.527891",
     "status": "completed"
    },
    "tags": []
   },
   "outputs": [],
   "source": [
    "# from sklearn.tree import export_graphviz\n",
    "# export_graphviz(clf,\n",
    "#                 feature_names=ohe_train_df.columns,\n",
    "#                 filled=True,\n",
    "#                 rounded=True)\n",
    "\n",
    "# os.system('dot -Tpng tree.dot -o tree.png')"
   ]
  }
 ],
 "metadata": {
  "kernelspec": {
   "display_name": "Python 3",
   "language": "python",
   "name": "python3"
  },
  "language_info": {
   "codemirror_mode": {
    "name": "ipython",
    "version": 3
   },
   "file_extension": ".py",
   "mimetype": "text/x-python",
   "name": "python",
   "nbconvert_exporter": "python",
   "pygments_lexer": "ipython3",
   "version": "3.7.12"
  },
  "papermill": {
   "default_parameters": {},
   "duration": 28.581503,
   "end_time": "2022-07-26T15:51:16.397470",
   "environment_variables": {},
   "exception": null,
   "input_path": "__notebook__.ipynb",
   "output_path": "__notebook__.ipynb",
   "parameters": {},
   "start_time": "2022-07-26T15:50:47.815967",
   "version": "2.3.4"
  }
 },
 "nbformat": 4,
 "nbformat_minor": 5
}
