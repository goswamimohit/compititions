{
 "cells": [
  {
   "cell_type": "code",
   "execution_count": 1,
   "id": "92217014",
   "metadata": {
    "_cell_guid": "b1076dfc-b9ad-4769-8c92-a6c4dae69d19",
    "_uuid": "8f2839f25d086af736a60e9eeb907d3b93b6e0e5",
    "execution": {
     "iopub.execute_input": "2022-07-26T15:31:35.624513Z",
     "iopub.status.busy": "2022-07-26T15:31:35.624053Z",
     "iopub.status.idle": "2022-07-26T15:31:35.644604Z",
     "shell.execute_reply": "2022-07-26T15:31:35.643683Z"
    },
    "papermill": {
     "duration": 0.037288,
     "end_time": "2022-07-26T15:31:35.647747",
     "exception": false,
     "start_time": "2022-07-26T15:31:35.610459",
     "status": "completed"
    },
    "tags": []
   },
   "outputs": [
    {
     "name": "stdout",
     "output_type": "stream",
     "text": [
      "/kaggle/input/analytic-hackthon/sample_submission_tbPU9qQ.csv\n",
      "/kaggle/input/analytic-hackthon/train_LZV4RXX.csv\n",
      "/kaggle/input/analytic-hackthon/test_4zJg83n.csv\n"
     ]
    }
   ],
   "source": [
    "# This Python 3 environment comes with many helpful analytics libraries installed\n",
    "# It is defined by the kaggle/python Docker image: https://github.com/kaggle/docker-python\n",
    "# For example, here's several helpful packages to load\n",
    "\n",
    "import numpy as np # linear algebra\n",
    "import pandas as pd # data processing, CSV file I/O (e.g. pd.read_csv)\n",
    "\n",
    "# Input data files are available in the read-only \"../input/\" directory\n",
    "# For example, running this (by clicking run or pressing Shift+Enter) will list all files under the input directory\n",
    "\n",
    "import os\n",
    "for dirname, _, filenames in os.walk('/kaggle/input'):\n",
    "    for filename in filenames:\n",
    "        print(os.path.join(dirname, filename))\n",
    "\n",
    "# You can write up to 20GB to the current directory (/kaggle/working/) that gets preserved as output when you create a version using \"Save & Run All\" \n",
    "# You can also write temporary files to /kaggle/temp/, but they won't be saved outside of the current session"
   ]
  },
  {
   "cell_type": "code",
   "execution_count": 2,
   "id": "f096e9ce",
   "metadata": {
    "execution": {
     "iopub.execute_input": "2022-07-26T15:31:35.671252Z",
     "iopub.status.busy": "2022-07-26T15:31:35.670832Z",
     "iopub.status.idle": "2022-07-26T15:31:37.029967Z",
     "shell.execute_reply": "2022-07-26T15:31:37.028605Z"
    },
    "papermill": {
     "duration": 1.37421,
     "end_time": "2022-07-26T15:31:37.033121",
     "exception": false,
     "start_time": "2022-07-26T15:31:35.658911",
     "status": "completed"
    },
    "tags": []
   },
   "outputs": [],
   "source": [
    "# library\n",
    "import missingno as msno\n",
    "import matplotlib.pyplot as plt\n",
    "import seaborn as sns"
   ]
  },
  {
   "cell_type": "markdown",
   "id": "b471851f",
   "metadata": {
    "papermill": {
     "duration": 0.010273,
     "end_time": "2022-07-26T15:31:37.053836",
     "exception": false,
     "start_time": "2022-07-26T15:31:37.043563",
     "status": "completed"
    },
    "tags": []
   },
   "source": [
    "## Problem Statement\n",
    "\n",
    "MyHom is a finance company that lends housing loans at the best and most affordable interest rates to customers. In recent times, the company incurred heavy losses due to loan defaults. Most applicants failed to repay the loan as per the promissory note.\n",
    "\n",
    "\n",
    "In order to avoid such losses, the company has decided to build a system for identifying the loan defaulters automatically based on data. This will help the company to identify the potential applicants and ensure the smooth running of the entire process.\n",
    "\n",
    "\n",
    "Now, the company challenges the Data Science community to build a smart AI system to predict the probability of an applicant defaulting the loan or not in the future."
   ]
  },
  {
   "cell_type": "markdown",
   "id": "a0329452",
   "metadata": {
    "papermill": {
     "duration": 0.010085,
     "end_time": "2022-07-26T15:31:37.074407",
     "exception": false,
     "start_time": "2022-07-26T15:31:37.064322",
     "status": "completed"
    },
    "tags": []
   },
   "source": [
    "## Loan Default Prediction\n",
    "\n",
    "Can you predict if an applicant will default the loan or not in the future?"
   ]
  },
  {
   "cell_type": "markdown",
   "id": "801cbd16",
   "metadata": {
    "papermill": {
     "duration": 0.010601,
     "end_time": "2022-07-26T15:31:37.097070",
     "exception": false,
     "start_time": "2022-07-26T15:31:37.086469",
     "status": "completed"
    },
    "tags": []
   },
   "source": [
    "## Variable Discription\n",
    "\n",
    "| Variable                        | Description                                                 |\n",
    "| ------------------------------- | ----------------------------------------------------------- |\n",
    "| loan\\_id                        | Unique identifier of a loan                                 |\n",
    "| age                             | Age of the Applicant                                        |\n",
    "| Education                       | Applicant Education                                         |\n",
    "| proof\\_submitted                | Type of proof submitted                                     |\n",
    "| loan\\_amount                    | Loan Amount Disbursed                                       |\n",
    "| asset\\_cost                     | The total asset value of the applicant                      |\n",
    "| no\\_of\\_loans                   | No. of the loans taken by the applicant                     |\n",
    "| no\\_of\\_curr\\_loans             | No. of active loans held by the applicant                   |\n",
    "| last\\_delinq\\_none              | The loan defaulted in at least one of the past loans        |\n",
    "| loan\\_default (Target Variable) | 0/1 indicating if an applicant will default the loan or not |"
   ]
  },
  {
   "cell_type": "markdown",
   "id": "f6bec6c7",
   "metadata": {
    "papermill": {
     "duration": 0.009313,
     "end_time": "2022-07-26T15:31:37.116109",
     "exception": false,
     "start_time": "2022-07-26T15:31:37.106796",
     "status": "completed"
    },
    "tags": []
   },
   "source": [
    "## Evaluation metric\n",
    "\n",
    "\n",
    "The evaluation metric for this hackathon would be the macro F1 Score."
   ]
  },
  {
   "cell_type": "code",
   "execution_count": 3,
   "id": "227845be",
   "metadata": {
    "execution": {
     "iopub.execute_input": "2022-07-26T15:31:37.140972Z",
     "iopub.status.busy": "2022-07-26T15:31:37.139880Z",
     "iopub.status.idle": "2022-07-26T15:31:37.146093Z",
     "shell.execute_reply": "2022-07-26T15:31:37.145005Z"
    },
    "papermill": {
     "duration": 0.021373,
     "end_time": "2022-07-26T15:31:37.148848",
     "exception": false,
     "start_time": "2022-07-26T15:31:37.127475",
     "status": "completed"
    },
    "tags": []
   },
   "outputs": [],
   "source": [
    "filepath_train = '/kaggle/input/analytic-hackthon/train_LZV4RXX.csv'\n",
    "filepath_test = '/kaggle/input/analytic-hackthon/test_4zJg83n.csv'\n",
    "filepath_submission = '/kaggle/input/analytic-hackthon/sample_submission_tbPU9qQ.csv'"
   ]
  },
  {
   "cell_type": "code",
   "execution_count": 4,
   "id": "29045aa3",
   "metadata": {
    "execution": {
     "iopub.execute_input": "2022-07-26T15:31:37.171532Z",
     "iopub.status.busy": "2022-07-26T15:31:37.171115Z",
     "iopub.status.idle": "2022-07-26T15:31:37.222309Z",
     "shell.execute_reply": "2022-07-26T15:31:37.221057Z"
    },
    "papermill": {
     "duration": 0.065368,
     "end_time": "2022-07-26T15:31:37.225392",
     "exception": false,
     "start_time": "2022-07-26T15:31:37.160024",
     "status": "completed"
    },
    "tags": []
   },
   "outputs": [],
   "source": [
    "train_df = pd.read_csv(filepath_train)\n",
    "test_df = pd.read_csv(filepath_test)\n",
    "submission_df = pd.read_csv(filepath_submission)"
   ]
  },
  {
   "cell_type": "code",
   "execution_count": 5,
   "id": "b56a61f4",
   "metadata": {
    "execution": {
     "iopub.execute_input": "2022-07-26T15:31:37.247535Z",
     "iopub.status.busy": "2022-07-26T15:31:37.246703Z",
     "iopub.status.idle": "2022-07-26T15:31:37.255376Z",
     "shell.execute_reply": "2022-07-26T15:31:37.254491Z"
    },
    "papermill": {
     "duration": 0.022475,
     "end_time": "2022-07-26T15:31:37.257747",
     "exception": false,
     "start_time": "2022-07-26T15:31:37.235272",
     "status": "completed"
    },
    "tags": []
   },
   "outputs": [
    {
     "data": {
      "text/plain": [
       "(7000, 10)"
      ]
     },
     "execution_count": 5,
     "metadata": {},
     "output_type": "execute_result"
    }
   ],
   "source": [
    "train_df.shape"
   ]
  },
  {
   "cell_type": "code",
   "execution_count": 6,
   "id": "54f05c65",
   "metadata": {
    "execution": {
     "iopub.execute_input": "2022-07-26T15:31:37.281851Z",
     "iopub.status.busy": "2022-07-26T15:31:37.280567Z",
     "iopub.status.idle": "2022-07-26T15:31:37.304335Z",
     "shell.execute_reply": "2022-07-26T15:31:37.302829Z"
    },
    "papermill": {
     "duration": 0.039175,
     "end_time": "2022-07-26T15:31:37.307035",
     "exception": false,
     "start_time": "2022-07-26T15:31:37.267860",
     "status": "completed"
    },
    "tags": []
   },
   "outputs": [
    {
     "data": {
      "text/html": [
       "<div>\n",
       "<style scoped>\n",
       "    .dataframe tbody tr th:only-of-type {\n",
       "        vertical-align: middle;\n",
       "    }\n",
       "\n",
       "    .dataframe tbody tr th {\n",
       "        vertical-align: top;\n",
       "    }\n",
       "\n",
       "    .dataframe thead th {\n",
       "        text-align: right;\n",
       "    }\n",
       "</style>\n",
       "<table border=\"1\" class=\"dataframe\">\n",
       "  <thead>\n",
       "    <tr style=\"text-align: right;\">\n",
       "      <th></th>\n",
       "      <th>loan_id</th>\n",
       "      <th>age</th>\n",
       "      <th>education</th>\n",
       "      <th>proof_submitted</th>\n",
       "      <th>loan_amount</th>\n",
       "      <th>asset_cost</th>\n",
       "      <th>no_of_loans</th>\n",
       "      <th>no_of_curr_loans</th>\n",
       "      <th>last_delinq_none</th>\n",
       "      <th>loan_default</th>\n",
       "    </tr>\n",
       "  </thead>\n",
       "  <tbody>\n",
       "    <tr>\n",
       "      <th>0</th>\n",
       "      <td>1</td>\n",
       "      <td>27</td>\n",
       "      <td>1.0</td>\n",
       "      <td>Aadhar</td>\n",
       "      <td>504264</td>\n",
       "      <td>820920</td>\n",
       "      <td>2</td>\n",
       "      <td>2</td>\n",
       "      <td>0</td>\n",
       "      <td>0</td>\n",
       "    </tr>\n",
       "    <tr>\n",
       "      <th>1</th>\n",
       "      <td>2</td>\n",
       "      <td>48</td>\n",
       "      <td>1.0</td>\n",
       "      <td>Aadhar</td>\n",
       "      <td>728556</td>\n",
       "      <td>831444</td>\n",
       "      <td>6</td>\n",
       "      <td>2</td>\n",
       "      <td>0</td>\n",
       "      <td>0</td>\n",
       "    </tr>\n",
       "    <tr>\n",
       "      <th>2</th>\n",
       "      <td>3</td>\n",
       "      <td>30</td>\n",
       "      <td>2.0</td>\n",
       "      <td>VoterID</td>\n",
       "      <td>642936</td>\n",
       "      <td>826092</td>\n",
       "      <td>0</td>\n",
       "      <td>0</td>\n",
       "      <td>0</td>\n",
       "      <td>1</td>\n",
       "    </tr>\n",
       "    <tr>\n",
       "      <th>3</th>\n",
       "      <td>4</td>\n",
       "      <td>28</td>\n",
       "      <td>1.0</td>\n",
       "      <td>Aadhar</td>\n",
       "      <td>746556</td>\n",
       "      <td>930924</td>\n",
       "      <td>0</td>\n",
       "      <td>0</td>\n",
       "      <td>0</td>\n",
       "      <td>0</td>\n",
       "    </tr>\n",
       "    <tr>\n",
       "      <th>4</th>\n",
       "      <td>5</td>\n",
       "      <td>29</td>\n",
       "      <td>1.0</td>\n",
       "      <td>Aadhar</td>\n",
       "      <td>1139880</td>\n",
       "      <td>1902000</td>\n",
       "      <td>0</td>\n",
       "      <td>0</td>\n",
       "      <td>0</td>\n",
       "      <td>0</td>\n",
       "    </tr>\n",
       "  </tbody>\n",
       "</table>\n",
       "</div>"
      ],
      "text/plain": [
       "   loan_id  age  education proof_submitted  loan_amount  asset_cost  \\\n",
       "0        1   27        1.0          Aadhar       504264      820920   \n",
       "1        2   48        1.0          Aadhar       728556      831444   \n",
       "2        3   30        2.0         VoterID       642936      826092   \n",
       "3        4   28        1.0          Aadhar       746556      930924   \n",
       "4        5   29        1.0          Aadhar      1139880     1902000   \n",
       "\n",
       "   no_of_loans  no_of_curr_loans  last_delinq_none  loan_default  \n",
       "0            2                 2                 0             0  \n",
       "1            6                 2                 0             0  \n",
       "2            0                 0                 0             1  \n",
       "3            0                 0                 0             0  \n",
       "4            0                 0                 0             0  "
      ]
     },
     "execution_count": 6,
     "metadata": {},
     "output_type": "execute_result"
    }
   ],
   "source": [
    "train_df.head()"
   ]
  },
  {
   "cell_type": "code",
   "execution_count": 7,
   "id": "307910ef",
   "metadata": {
    "execution": {
     "iopub.execute_input": "2022-07-26T15:31:37.330517Z",
     "iopub.status.busy": "2022-07-26T15:31:37.330038Z",
     "iopub.status.idle": "2022-07-26T15:31:37.347750Z",
     "shell.execute_reply": "2022-07-26T15:31:37.346226Z"
    },
    "papermill": {
     "duration": 0.033358,
     "end_time": "2022-07-26T15:31:37.350587",
     "exception": false,
     "start_time": "2022-07-26T15:31:37.317229",
     "status": "completed"
    },
    "tags": []
   },
   "outputs": [
    {
     "data": {
      "text/html": [
       "<div>\n",
       "<style scoped>\n",
       "    .dataframe tbody tr th:only-of-type {\n",
       "        vertical-align: middle;\n",
       "    }\n",
       "\n",
       "    .dataframe tbody tr th {\n",
       "        vertical-align: top;\n",
       "    }\n",
       "\n",
       "    .dataframe thead th {\n",
       "        text-align: right;\n",
       "    }\n",
       "</style>\n",
       "<table border=\"1\" class=\"dataframe\">\n",
       "  <thead>\n",
       "    <tr style=\"text-align: right;\">\n",
       "      <th></th>\n",
       "      <th>loan_id</th>\n",
       "      <th>age</th>\n",
       "      <th>education</th>\n",
       "      <th>proof_submitted</th>\n",
       "      <th>loan_amount</th>\n",
       "      <th>asset_cost</th>\n",
       "      <th>no_of_loans</th>\n",
       "      <th>no_of_curr_loans</th>\n",
       "      <th>last_delinq_none</th>\n",
       "      <th>loan_default</th>\n",
       "    </tr>\n",
       "  </thead>\n",
       "  <tbody>\n",
       "    <tr>\n",
       "      <th>6995</th>\n",
       "      <td>6996</td>\n",
       "      <td>45</td>\n",
       "      <td>2.0</td>\n",
       "      <td>Aadhar</td>\n",
       "      <td>930948</td>\n",
       "      <td>1258344</td>\n",
       "      <td>0</td>\n",
       "      <td>0</td>\n",
       "      <td>0</td>\n",
       "      <td>1</td>\n",
       "    </tr>\n",
       "    <tr>\n",
       "      <th>6996</th>\n",
       "      <td>6997</td>\n",
       "      <td>41</td>\n",
       "      <td>2.0</td>\n",
       "      <td>Aadhar</td>\n",
       "      <td>681108</td>\n",
       "      <td>791040</td>\n",
       "      <td>4</td>\n",
       "      <td>4</td>\n",
       "      <td>0</td>\n",
       "      <td>1</td>\n",
       "    </tr>\n",
       "    <tr>\n",
       "      <th>6997</th>\n",
       "      <td>6998</td>\n",
       "      <td>47</td>\n",
       "      <td>2.0</td>\n",
       "      <td>Aadhar</td>\n",
       "      <td>627636</td>\n",
       "      <td>720336</td>\n",
       "      <td>35</td>\n",
       "      <td>11</td>\n",
       "      <td>0</td>\n",
       "      <td>1</td>\n",
       "    </tr>\n",
       "    <tr>\n",
       "      <th>6998</th>\n",
       "      <td>6999</td>\n",
       "      <td>39</td>\n",
       "      <td>1.0</td>\n",
       "      <td>Aadhar</td>\n",
       "      <td>654708</td>\n",
       "      <td>793860</td>\n",
       "      <td>0</td>\n",
       "      <td>0</td>\n",
       "      <td>0</td>\n",
       "      <td>1</td>\n",
       "    </tr>\n",
       "    <tr>\n",
       "      <th>6999</th>\n",
       "      <td>7000</td>\n",
       "      <td>31</td>\n",
       "      <td>1.0</td>\n",
       "      <td>Aadhar</td>\n",
       "      <td>705108</td>\n",
       "      <td>900660</td>\n",
       "      <td>0</td>\n",
       "      <td>0</td>\n",
       "      <td>0</td>\n",
       "      <td>0</td>\n",
       "    </tr>\n",
       "  </tbody>\n",
       "</table>\n",
       "</div>"
      ],
      "text/plain": [
       "      loan_id  age  education proof_submitted  loan_amount  asset_cost  \\\n",
       "6995     6996   45        2.0          Aadhar       930948     1258344   \n",
       "6996     6997   41        2.0          Aadhar       681108      791040   \n",
       "6997     6998   47        2.0          Aadhar       627636      720336   \n",
       "6998     6999   39        1.0          Aadhar       654708      793860   \n",
       "6999     7000   31        1.0          Aadhar       705108      900660   \n",
       "\n",
       "      no_of_loans  no_of_curr_loans  last_delinq_none  loan_default  \n",
       "6995            0                 0                 0             1  \n",
       "6996            4                 4                 0             1  \n",
       "6997           35                11                 0             1  \n",
       "6998            0                 0                 0             1  \n",
       "6999            0                 0                 0             0  "
      ]
     },
     "execution_count": 7,
     "metadata": {},
     "output_type": "execute_result"
    }
   ],
   "source": [
    "train_df.tail()"
   ]
  },
  {
   "cell_type": "code",
   "execution_count": 8,
   "id": "795c7507",
   "metadata": {
    "execution": {
     "iopub.execute_input": "2022-07-26T15:31:37.374341Z",
     "iopub.status.busy": "2022-07-26T15:31:37.373959Z",
     "iopub.status.idle": "2022-07-26T15:31:37.408017Z",
     "shell.execute_reply": "2022-07-26T15:31:37.406790Z"
    },
    "papermill": {
     "duration": 0.049311,
     "end_time": "2022-07-26T15:31:37.410616",
     "exception": false,
     "start_time": "2022-07-26T15:31:37.361305",
     "status": "completed"
    },
    "tags": []
   },
   "outputs": [
    {
     "name": "stdout",
     "output_type": "stream",
     "text": [
      "<class 'pandas.core.frame.DataFrame'>\n",
      "RangeIndex: 7000 entries, 0 to 6999\n",
      "Data columns (total 10 columns):\n",
      " #   Column            Non-Null Count  Dtype  \n",
      "---  ------            --------------  -----  \n",
      " 0   loan_id           7000 non-null   int64  \n",
      " 1   age               7000 non-null   int64  \n",
      " 2   education         6755 non-null   float64\n",
      " 3   proof_submitted   7000 non-null   object \n",
      " 4   loan_amount       7000 non-null   int64  \n",
      " 5   asset_cost        7000 non-null   int64  \n",
      " 6   no_of_loans       7000 non-null   int64  \n",
      " 7   no_of_curr_loans  7000 non-null   int64  \n",
      " 8   last_delinq_none  7000 non-null   int64  \n",
      " 9   loan_default      7000 non-null   int64  \n",
      "dtypes: float64(1), int64(8), object(1)\n",
      "memory usage: 547.0+ KB\n"
     ]
    }
   ],
   "source": [
    "train_df.info()"
   ]
  },
  {
   "cell_type": "markdown",
   "id": "ab73d11c",
   "metadata": {
    "papermill": {
     "duration": 0.010516,
     "end_time": "2022-07-26T15:31:37.431930",
     "exception": false,
     "start_time": "2022-07-26T15:31:37.421414",
     "status": "completed"
    },
    "tags": []
   },
   "source": [
    " #   Column            Non-Null Count  Dtype  change\n",
    "---  ------            --------------  -----  -----\n",
    " 0   loan_id           7000 non-null   int64  cat\n",
    " \n",
    " 1   age               7000 non-null   int64  int\n",
    " \n",
    " 2   education         6755 non-null   float64 cat\n",
    " \n",
    " 3   proof_submitted   7000 non-null   object cat\n",
    " \n",
    " 4   loan_amount       7000 non-null   int64  int\n",
    " \n",
    " 5   asset_cost        7000 non-null   int64  int\n",
    " \n",
    " 6   no_of_loans       7000 non-null   int64  cat\n",
    " \n",
    " 7   no_of_curr_loans  7000 non-null   int64  cat\n",
    " \n",
    " 8   last_delinq_none  7000 non-null   int64  cat\n",
    " \n",
    " 9   loan_default      7000 non-null   int64  cat\n",
    " "
   ]
  },
  {
   "cell_type": "code",
   "execution_count": 9,
   "id": "30a57595",
   "metadata": {
    "execution": {
     "iopub.execute_input": "2022-07-26T15:31:37.455755Z",
     "iopub.status.busy": "2022-07-26T15:31:37.455289Z",
     "iopub.status.idle": "2022-07-26T15:31:37.484026Z",
     "shell.execute_reply": "2022-07-26T15:31:37.481731Z"
    },
    "papermill": {
     "duration": 0.045369,
     "end_time": "2022-07-26T15:31:37.488205",
     "exception": false,
     "start_time": "2022-07-26T15:31:37.442836",
     "status": "completed"
    },
    "tags": []
   },
   "outputs": [
    {
     "name": "stdout",
     "output_type": "stream",
     "text": [
      "<class 'pandas.core.frame.DataFrame'>\n",
      "RangeIndex: 7000 entries, 0 to 6999\n",
      "Data columns (total 10 columns):\n",
      " #   Column            Non-Null Count  Dtype   \n",
      "---  ------            --------------  -----   \n",
      " 0   loan_id           7000 non-null   category\n",
      " 1   age               7000 non-null   int64   \n",
      " 2   education         6755 non-null   category\n",
      " 3   proof_submitted   7000 non-null   category\n",
      " 4   loan_amount       7000 non-null   int64   \n",
      " 5   asset_cost        7000 non-null   int64   \n",
      " 6   no_of_loans       7000 non-null   int64   \n",
      " 7   no_of_curr_loans  7000 non-null   int64   \n",
      " 8   last_delinq_none  7000 non-null   int64   \n",
      " 9   loan_default      7000 non-null   category\n",
      "dtypes: category(4), int64(6)\n",
      "memory usage: 675.6 KB\n"
     ]
    }
   ],
   "source": [
    "cat_column = ['loan_id', 'education', 'proof_submitted','loan_default']\n",
    "for cat in cat_column:\n",
    "    train_df[cat]=train_df[cat].astype('category')\n",
    "train_df.info()"
   ]
  },
  {
   "cell_type": "code",
   "execution_count": 10,
   "id": "064e9d55",
   "metadata": {
    "execution": {
     "iopub.execute_input": "2022-07-26T15:31:37.512749Z",
     "iopub.status.busy": "2022-07-26T15:31:37.512370Z",
     "iopub.status.idle": "2022-07-26T15:31:38.451654Z",
     "shell.execute_reply": "2022-07-26T15:31:38.450688Z"
    },
    "papermill": {
     "duration": 0.95462,
     "end_time": "2022-07-26T15:31:38.454201",
     "exception": false,
     "start_time": "2022-07-26T15:31:37.499581",
     "status": "completed"
    },
    "tags": []
   },
   "outputs": [
    {
     "data": {
      "text/plain": [
       "<AxesSubplot:>"
      ]
     },
     "execution_count": 10,
     "metadata": {},
     "output_type": "execute_result"
    },
    {
     "data": {
      "image/png": "[encoded data removed]",
      "text/plain": [
       "<Figure size 1728x720 with 3 Axes>"
      ]
     },
     "metadata": {
      "needs_background": "light"
     },
     "output_type": "display_data"
    }
   ],
   "source": [
    "msno.bar(train_df)\n",
    "# missing value present in education"
   ]
  },
  {
   "cell_type": "code",
   "execution_count": 11,
   "id": "ff524eea",
   "metadata": {
    "execution": {
     "iopub.execute_input": "2022-07-26T15:31:38.480398Z",
     "iopub.status.busy": "2022-07-26T15:31:38.480006Z",
     "iopub.status.idle": "2022-07-26T15:31:38.670688Z",
     "shell.execute_reply": "2022-07-26T15:31:38.668433Z"
    },
    "papermill": {
     "duration": 0.207393,
     "end_time": "2022-07-26T15:31:38.673592",
     "exception": false,
     "start_time": "2022-07-26T15:31:38.466199",
     "status": "completed"
    },
    "tags": []
   },
   "outputs": [
    {
     "data": {
      "text/plain": [
       "<AxesSubplot:>"
      ]
     },
     "execution_count": 11,
     "metadata": {},
     "output_type": "execute_result"
    },
    {
     "data": {
      "image/png": "[encoded data removed]",
      "text/plain": [
       "<Figure size 432x288 with 1 Axes>"
      ]
     },
     "metadata": {
      "needs_background": "light"
     },
     "output_type": "display_data"
    }
   ],
   "source": [
    "train_df['loan_default'].value_counts().plot(kind ='bar')"
   ]
  },
  {
   "cell_type": "code",
   "execution_count": 12,
   "id": "980a9109",
   "metadata": {
    "execution": {
     "iopub.execute_input": "2022-07-26T15:31:38.699740Z",
     "iopub.status.busy": "2022-07-26T15:31:38.699039Z",
     "iopub.status.idle": "2022-07-26T15:31:38.870625Z",
     "shell.execute_reply": "2022-07-26T15:31:38.869744Z"
    },
    "papermill": {
     "duration": 0.187642,
     "end_time": "2022-07-26T15:31:38.873054",
     "exception": false,
     "start_time": "2022-07-26T15:31:38.685412",
     "status": "completed"
    },
    "tags": []
   },
   "outputs": [
    {
     "data": {
      "text/plain": [
       "<AxesSubplot:>"
      ]
     },
     "execution_count": 12,
     "metadata": {},
     "output_type": "execute_result"
    },
    {
     "data": {
      "image/png": "[encoded data removed]",
      "text/plain": [
       "<Figure size 432x288 with 1 Axes>"
      ]
     },
     "metadata": {
      "needs_background": "light"
     },
     "output_type": "display_data"
    }
   ],
   "source": [
    "train_df['education'].value_counts().plot(kind ='bar')"
   ]
  },
  {
   "cell_type": "code",
   "execution_count": 13,
   "id": "7f5b9842",
   "metadata": {
    "execution": {
     "iopub.execute_input": "2022-07-26T15:31:38.901478Z",
     "iopub.status.busy": "2022-07-26T15:31:38.900874Z",
     "iopub.status.idle": "2022-07-26T15:31:39.107285Z",
     "shell.execute_reply": "2022-07-26T15:31:39.106085Z"
    },
    "papermill": {
     "duration": 0.223325,
     "end_time": "2022-07-26T15:31:39.109658",
     "exception": false,
     "start_time": "2022-07-26T15:31:38.886333",
     "status": "completed"
    },
    "tags": []
   },
   "outputs": [
    {
     "data": {
      "text/plain": [
       "<AxesSubplot:ylabel='Frequency'>"
      ]
     },
     "execution_count": 13,
     "metadata": {},
     "output_type": "execute_result"
    },
    {
     "data": {
      "image/png": "[encoded data removed]",
      "text/plain": [
       "<Figure size 432x288 with 1 Axes>"
      ]
     },
     "metadata": {
      "needs_background": "light"
     },
     "output_type": "display_data"
    }
   ],
   "source": [
    "train_df['no_of_curr_loans'].value_counts().plot(kind ='hist')"
   ]
  },
  {
   "cell_type": "code",
   "execution_count": 14,
   "id": "64cb8aff",
   "metadata": {
    "execution": {
     "iopub.execute_input": "2022-07-26T15:31:39.138439Z",
     "iopub.status.busy": "2022-07-26T15:31:39.138027Z",
     "iopub.status.idle": "2022-07-26T15:31:39.144141Z",
     "shell.execute_reply": "2022-07-26T15:31:39.142713Z"
    },
    "papermill": {
     "duration": 0.024141,
     "end_time": "2022-07-26T15:31:39.146735",
     "exception": false,
     "start_time": "2022-07-26T15:31:39.122594",
     "status": "completed"
    },
    "tags": []
   },
   "outputs": [],
   "source": [
    "numeric_cols = [col for col in train_df.columns if \n",
    "                                train_df[col].dtype in ['int64', 'float64']]"
   ]
  },
  {
   "cell_type": "code",
   "execution_count": 15,
   "id": "c34ad70e",
   "metadata": {
    "execution": {
     "iopub.execute_input": "2022-07-26T15:31:39.176488Z",
     "iopub.status.busy": "2022-07-26T15:31:39.176050Z",
     "iopub.status.idle": "2022-07-26T15:31:39.184143Z",
     "shell.execute_reply": "2022-07-26T15:31:39.182574Z"
    },
    "papermill": {
     "duration": 0.026735,
     "end_time": "2022-07-26T15:31:39.186667",
     "exception": false,
     "start_time": "2022-07-26T15:31:39.159932",
     "status": "completed"
    },
    "tags": []
   },
   "outputs": [
    {
     "data": {
      "text/plain": [
       "['age',\n",
       " 'loan_amount',\n",
       " 'asset_cost',\n",
       " 'no_of_loans',\n",
       " 'no_of_curr_loans',\n",
       " 'last_delinq_none']"
      ]
     },
     "execution_count": 15,
     "metadata": {},
     "output_type": "execute_result"
    }
   ],
   "source": [
    "numeric_cols"
   ]
  },
  {
   "cell_type": "code",
   "execution_count": 16,
   "id": "e86e8744",
   "metadata": {
    "execution": {
     "iopub.execute_input": "2022-07-26T15:31:39.214689Z",
     "iopub.status.busy": "2022-07-26T15:31:39.214262Z",
     "iopub.status.idle": "2022-07-26T15:31:40.750650Z",
     "shell.execute_reply": "2022-07-26T15:31:40.749089Z"
    },
    "papermill": {
     "duration": 1.553893,
     "end_time": "2022-07-26T15:31:40.753564",
     "exception": false,
     "start_time": "2022-07-26T15:31:39.199671",
     "status": "completed"
    },
    "tags": []
   },
   "outputs": [
    {
     "data": {
      "image/png": "[encoded data removed]",
      "text/plain": [
       "<Figure size 432x288 with 1 Axes>"
      ]
     },
     "metadata": {
      "needs_background": "light"
     },
     "output_type": "display_data"
    },
    {
     "data": {
      "image/png": "[encoded data removed]",
      "text/plain": [
       "<Figure size 432x288 with 1 Axes>"
      ]
     },
     "metadata": {
      "needs_background": "light"
     },
     "output_type": "display_data"
    },
    {
     "data": {
      "image/png": "[encoded data removed]",
      "text/plain": [
       "<Figure size 432x288 with 1 Axes>"
      ]
     },
     "metadata": {
      "needs_background": "light"
     },
     "output_type": "display_data"
    },
    {
     "data": {
      "image/png": "[encoded data removed]",
      "text/plain": [
       "<Figure size 432x288 with 1 Axes>"
      ]
     },
     "metadata": {
      "needs_background": "light"
     },
     "output_type": "display_data"
    },
    {
     "data": {
      "image/png": "[encoded data removed]",
      "text/plain": [
       "<Figure size 432x288 with 1 Axes>"
      ]
     },
     "metadata": {
      "needs_background": "light"
     },
     "output_type": "display_data"
    },
    {
     "data": {
      "image/png": "[encoded data removed]",
      "text/plain": [
       "<Figure size 432x288 with 1 Axes>"
      ]
     },
     "metadata": {
      "needs_background": "light"
     },
     "output_type": "display_data"
    }
   ],
   "source": [
    "for num in numeric_cols:\n",
    "    plt.figure()\n",
    "    sns.histplot(data=train_df, x=num, bins=8,kde=True)"
   ]
  },
  {
   "cell_type": "code",
   "execution_count": 17,
   "id": "1edf82f9",
   "metadata": {
    "execution": {
     "iopub.execute_input": "2022-07-26T15:31:40.786386Z",
     "iopub.status.busy": "2022-07-26T15:31:40.785674Z",
     "iopub.status.idle": "2022-07-26T15:31:40.794548Z",
     "shell.execute_reply": "2022-07-26T15:31:40.793517Z"
    },
    "papermill": {
     "duration": 0.028636,
     "end_time": "2022-07-26T15:31:40.797602",
     "exception": false,
     "start_time": "2022-07-26T15:31:40.768966",
     "status": "completed"
    },
    "tags": []
   },
   "outputs": [],
   "source": [
    "low_cardinality_cols = [col for col in train_df.columns if \n",
    "                                train_df[col].nunique() < 10 and\n",
    "                                train_df[col].dtype in ['object', 'category']]"
   ]
  },
  {
   "cell_type": "code",
   "execution_count": 18,
   "id": "8e3cea2d",
   "metadata": {
    "execution": {
     "iopub.execute_input": "2022-07-26T15:31:40.830619Z",
     "iopub.status.busy": "2022-07-26T15:31:40.830150Z",
     "iopub.status.idle": "2022-07-26T15:31:41.338762Z",
     "shell.execute_reply": "2022-07-26T15:31:41.337175Z"
    },
    "papermill": {
     "duration": 0.52918,
     "end_time": "2022-07-26T15:31:41.341327",
     "exception": false,
     "start_time": "2022-07-26T15:31:40.812147",
     "status": "completed"
    },
    "tags": []
   },
   "outputs": [
    {
     "data": {
      "image/png": "[encoded data removed]",
      "text/plain": [
       "<Figure size 432x288 with 1 Axes>"
      ]
     },
     "metadata": {
      "needs_background": "light"
     },
     "output_type": "display_data"
    },
    {
     "data": {
      "image/png": "[encoded data removed]",
      "text/plain": [
       "<Figure size 432x288 with 1 Axes>"
      ]
     },
     "metadata": {
      "needs_background": "light"
     },
     "output_type": "display_data"
    },
    {
     "data": {
      "image/png": "[encoded data removed]",
      "text/plain": [
       "<Figure size 432x288 with 1 Axes>"
      ]
     },
     "metadata": {
      "needs_background": "light"
     },
     "output_type": "display_data"
    }
   ],
   "source": [
    "for cat in low_cardinality_cols:\n",
    "    plt.figure()\n",
    "    sns.countplot(data=train_df, x=cat)"
   ]
  },
  {
   "cell_type": "code",
   "execution_count": 19,
   "id": "c4e257cc",
   "metadata": {
    "execution": {
     "iopub.execute_input": "2022-07-26T15:31:41.373973Z",
     "iopub.status.busy": "2022-07-26T15:31:41.373566Z",
     "iopub.status.idle": "2022-07-26T15:31:41.380423Z",
     "shell.execute_reply": "2022-07-26T15:31:41.379007Z"
    },
    "papermill": {
     "duration": 0.026221,
     "end_time": "2022-07-26T15:31:41.383072",
     "exception": false,
     "start_time": "2022-07-26T15:31:41.356851",
     "status": "completed"
    },
    "tags": []
   },
   "outputs": [],
   "source": [
    "train_df=train_df.drop('loan_id',axis=1)"
   ]
  },
  {
   "cell_type": "code",
   "execution_count": 20,
   "id": "67a7e171",
   "metadata": {
    "execution": {
     "iopub.execute_input": "2022-07-26T15:31:41.416100Z",
     "iopub.status.busy": "2022-07-26T15:31:41.415630Z",
     "iopub.status.idle": "2022-07-26T15:31:41.423526Z",
     "shell.execute_reply": "2022-07-26T15:31:41.422145Z"
    },
    "papermill": {
     "duration": 0.028149,
     "end_time": "2022-07-26T15:31:41.426305",
     "exception": false,
     "start_time": "2022-07-26T15:31:41.398156",
     "status": "completed"
    },
    "tags": []
   },
   "outputs": [],
   "source": [
    "X=train_df.drop('loan_default',axis=1)\n",
    "y=train_df.loan_default"
   ]
  },
  {
   "cell_type": "code",
   "execution_count": null,
   "id": "fbdc4127",
   "metadata": {
    "papermill": {
     "duration": 0.015473,
     "end_time": "2022-07-26T15:31:41.457398",
     "exception": false,
     "start_time": "2022-07-26T15:31:41.441925",
     "status": "completed"
    },
    "tags": []
   },
   "outputs": [],
   "source": []
  },
  {
   "cell_type": "code",
   "execution_count": 21,
   "id": "1fe2c3a4",
   "metadata": {
    "execution": {
     "iopub.execute_input": "2022-07-26T15:31:41.490475Z",
     "iopub.status.busy": "2022-07-26T15:31:41.490033Z",
     "iopub.status.idle": "2022-07-26T15:31:41.501817Z",
     "shell.execute_reply": "2022-07-26T15:31:41.500497Z"
    },
    "papermill": {
     "duration": 0.031568,
     "end_time": "2022-07-26T15:31:41.504646",
     "exception": false,
     "start_time": "2022-07-26T15:31:41.473078",
     "status": "completed"
    },
    "tags": []
   },
   "outputs": [],
   "source": [
    "ohe_train_df =pd.get_dummies(X)"
   ]
  },
  {
   "cell_type": "code",
   "execution_count": 22,
   "id": "77dfa35a",
   "metadata": {
    "execution": {
     "iopub.execute_input": "2022-07-26T15:31:41.538956Z",
     "iopub.status.busy": "2022-07-26T15:31:41.538516Z",
     "iopub.status.idle": "2022-07-26T15:31:41.555920Z",
     "shell.execute_reply": "2022-07-26T15:31:41.554977Z"
    },
    "papermill": {
     "duration": 0.038552,
     "end_time": "2022-07-26T15:31:41.559205",
     "exception": false,
     "start_time": "2022-07-26T15:31:41.520653",
     "status": "completed"
    },
    "tags": []
   },
   "outputs": [
    {
     "data": {
      "text/html": [
       "<div>\n",
       "<style scoped>\n",
       "    .dataframe tbody tr th:only-of-type {\n",
       "        vertical-align: middle;\n",
       "    }\n",
       "\n",
       "    .dataframe tbody tr th {\n",
       "        vertical-align: top;\n",
       "    }\n",
       "\n",
       "    .dataframe thead th {\n",
       "        text-align: right;\n",
       "    }\n",
       "</style>\n",
       "<table border=\"1\" class=\"dataframe\">\n",
       "  <thead>\n",
       "    <tr style=\"text-align: right;\">\n",
       "      <th></th>\n",
       "      <th>age</th>\n",
       "      <th>loan_amount</th>\n",
       "      <th>asset_cost</th>\n",
       "      <th>no_of_loans</th>\n",
       "      <th>no_of_curr_loans</th>\n",
       "      <th>last_delinq_none</th>\n",
       "      <th>education_1.0</th>\n",
       "      <th>education_2.0</th>\n",
       "      <th>proof_submitted_Aadhar</th>\n",
       "      <th>proof_submitted_Driving</th>\n",
       "      <th>proof_submitted_PAN</th>\n",
       "      <th>proof_submitted_Passport</th>\n",
       "      <th>proof_submitted_VoterID</th>\n",
       "    </tr>\n",
       "  </thead>\n",
       "  <tbody>\n",
       "    <tr>\n",
       "      <th>0</th>\n",
       "      <td>27</td>\n",
       "      <td>504264</td>\n",
       "      <td>820920</td>\n",
       "      <td>2</td>\n",
       "      <td>2</td>\n",
       "      <td>0</td>\n",
       "      <td>1</td>\n",
       "      <td>0</td>\n",
       "      <td>1</td>\n",
       "      <td>0</td>\n",
       "      <td>0</td>\n",
       "      <td>0</td>\n",
       "      <td>0</td>\n",
       "    </tr>\n",
       "    <tr>\n",
       "      <th>1</th>\n",
       "      <td>48</td>\n",
       "      <td>728556</td>\n",
       "      <td>831444</td>\n",
       "      <td>6</td>\n",
       "      <td>2</td>\n",
       "      <td>0</td>\n",
       "      <td>1</td>\n",
       "      <td>0</td>\n",
       "      <td>1</td>\n",
       "      <td>0</td>\n",
       "      <td>0</td>\n",
       "      <td>0</td>\n",
       "      <td>0</td>\n",
       "    </tr>\n",
       "    <tr>\n",
       "      <th>2</th>\n",
       "      <td>30</td>\n",
       "      <td>642936</td>\n",
       "      <td>826092</td>\n",
       "      <td>0</td>\n",
       "      <td>0</td>\n",
       "      <td>0</td>\n",
       "      <td>0</td>\n",
       "      <td>1</td>\n",
       "      <td>0</td>\n",
       "      <td>0</td>\n",
       "      <td>0</td>\n",
       "      <td>0</td>\n",
       "      <td>1</td>\n",
       "    </tr>\n",
       "    <tr>\n",
       "      <th>3</th>\n",
       "      <td>28</td>\n",
       "      <td>746556</td>\n",
       "      <td>930924</td>\n",
       "      <td>0</td>\n",
       "      <td>0</td>\n",
       "      <td>0</td>\n",
       "      <td>1</td>\n",
       "      <td>0</td>\n",
       "      <td>1</td>\n",
       "      <td>0</td>\n",
       "      <td>0</td>\n",
       "      <td>0</td>\n",
       "      <td>0</td>\n",
       "    </tr>\n",
       "    <tr>\n",
       "      <th>4</th>\n",
       "      <td>29</td>\n",
       "      <td>1139880</td>\n",
       "      <td>1902000</td>\n",
       "      <td>0</td>\n",
       "      <td>0</td>\n",
       "      <td>0</td>\n",
       "      <td>1</td>\n",
       "      <td>0</td>\n",
       "      <td>1</td>\n",
       "      <td>0</td>\n",
       "      <td>0</td>\n",
       "      <td>0</td>\n",
       "      <td>0</td>\n",
       "    </tr>\n",
       "    <tr>\n",
       "      <th>...</th>\n",
       "      <td>...</td>\n",
       "      <td>...</td>\n",
       "      <td>...</td>\n",
       "      <td>...</td>\n",
       "      <td>...</td>\n",
       "      <td>...</td>\n",
       "      <td>...</td>\n",
       "      <td>...</td>\n",
       "      <td>...</td>\n",
       "      <td>...</td>\n",
       "      <td>...</td>\n",
       "      <td>...</td>\n",
       "      <td>...</td>\n",
       "    </tr>\n",
       "    <tr>\n",
       "      <th>6995</th>\n",
       "      <td>45</td>\n",
       "      <td>930948</td>\n",
       "      <td>1258344</td>\n",
       "      <td>0</td>\n",
       "      <td>0</td>\n",
       "      <td>0</td>\n",
       "      <td>0</td>\n",
       "      <td>1</td>\n",
       "      <td>1</td>\n",
       "      <td>0</td>\n",
       "      <td>0</td>\n",
       "      <td>0</td>\n",
       "      <td>0</td>\n",
       "    </tr>\n",
       "    <tr>\n",
       "      <th>6996</th>\n",
       "      <td>41</td>\n",
       "      <td>681108</td>\n",
       "      <td>791040</td>\n",
       "      <td>4</td>\n",
       "      <td>4</td>\n",
       "      <td>0</td>\n",
       "      <td>0</td>\n",
       "      <td>1</td>\n",
       "      <td>1</td>\n",
       "      <td>0</td>\n",
       "      <td>0</td>\n",
       "      <td>0</td>\n",
       "      <td>0</td>\n",
       "    </tr>\n",
       "    <tr>\n",
       "      <th>6997</th>\n",
       "      <td>47</td>\n",
       "      <td>627636</td>\n",
       "      <td>720336</td>\n",
       "      <td>35</td>\n",
       "      <td>11</td>\n",
       "      <td>0</td>\n",
       "      <td>0</td>\n",
       "      <td>1</td>\n",
       "      <td>1</td>\n",
       "      <td>0</td>\n",
       "      <td>0</td>\n",
       "      <td>0</td>\n",
       "      <td>0</td>\n",
       "    </tr>\n",
       "    <tr>\n",
       "      <th>6998</th>\n",
       "      <td>39</td>\n",
       "      <td>654708</td>\n",
       "      <td>793860</td>\n",
       "      <td>0</td>\n",
       "      <td>0</td>\n",
       "      <td>0</td>\n",
       "      <td>1</td>\n",
       "      <td>0</td>\n",
       "      <td>1</td>\n",
       "      <td>0</td>\n",
       "      <td>0</td>\n",
       "      <td>0</td>\n",
       "      <td>0</td>\n",
       "    </tr>\n",
       "    <tr>\n",
       "      <th>6999</th>\n",
       "      <td>31</td>\n",
       "      <td>705108</td>\n",
       "      <td>900660</td>\n",
       "      <td>0</td>\n",
       "      <td>0</td>\n",
       "      <td>0</td>\n",
       "      <td>1</td>\n",
       "      <td>0</td>\n",
       "      <td>1</td>\n",
       "      <td>0</td>\n",
       "      <td>0</td>\n",
       "      <td>0</td>\n",
       "      <td>0</td>\n",
       "    </tr>\n",
       "  </tbody>\n",
       "</table>\n",
       "<p>7000 rows × 13 columns</p>\n",
       "</div>"
      ],
      "text/plain": [
       "      age  loan_amount  asset_cost  no_of_loans  no_of_curr_loans  \\\n",
       "0      27       504264      820920            2                 2   \n",
       "1      48       728556      831444            6                 2   \n",
       "2      30       642936      826092            0                 0   \n",
       "3      28       746556      930924            0                 0   \n",
       "4      29      1139880     1902000            0                 0   \n",
       "...   ...          ...         ...          ...               ...   \n",
       "6995   45       930948     1258344            0                 0   \n",
       "6996   41       681108      791040            4                 4   \n",
       "6997   47       627636      720336           35                11   \n",
       "6998   39       654708      793860            0                 0   \n",
       "6999   31       705108      900660            0                 0   \n",
       "\n",
       "      last_delinq_none  education_1.0  education_2.0  proof_submitted_Aadhar  \\\n",
       "0                    0              1              0                       1   \n",
       "1                    0              1              0                       1   \n",
       "2                    0              0              1                       0   \n",
       "3                    0              1              0                       1   \n",
       "4                    0              1              0                       1   \n",
       "...                ...            ...            ...                     ...   \n",
       "6995                 0              0              1                       1   \n",
       "6996                 0              0              1                       1   \n",
       "6997                 0              0              1                       1   \n",
       "6998                 0              1              0                       1   \n",
       "6999                 0              1              0                       1   \n",
       "\n",
       "      proof_submitted_Driving  proof_submitted_PAN  proof_submitted_Passport  \\\n",
       "0                           0                    0                         0   \n",
       "1                           0                    0                         0   \n",
       "2                           0                    0                         0   \n",
       "3                           0                    0                         0   \n",
       "4                           0                    0                         0   \n",
       "...                       ...                  ...                       ...   \n",
       "6995                        0                    0                         0   \n",
       "6996                        0                    0                         0   \n",
       "6997                        0                    0                         0   \n",
       "6998                        0                    0                         0   \n",
       "6999                        0                    0                         0   \n",
       "\n",
       "      proof_submitted_VoterID  \n",
       "0                           0  \n",
       "1                           0  \n",
       "2                           1  \n",
       "3                           0  \n",
       "4                           0  \n",
       "...                       ...  \n",
       "6995                        0  \n",
       "6996                        0  \n",
       "6997                        0  \n",
       "6998                        0  \n",
       "6999                        0  \n",
       "\n",
       "[7000 rows x 13 columns]"
      ]
     },
     "execution_count": 22,
     "metadata": {},
     "output_type": "execute_result"
    }
   ],
   "source": [
    "ohe_train_df"
   ]
  },
  {
   "cell_type": "code",
   "execution_count": 23,
   "id": "54830f8a",
   "metadata": {
    "execution": {
     "iopub.execute_input": "2022-07-26T15:31:41.594361Z",
     "iopub.status.busy": "2022-07-26T15:31:41.593990Z",
     "iopub.status.idle": "2022-07-26T15:31:42.177577Z",
     "shell.execute_reply": "2022-07-26T15:31:42.175863Z"
    },
    "papermill": {
     "duration": 0.605404,
     "end_time": "2022-07-26T15:31:42.180918",
     "exception": false,
     "start_time": "2022-07-26T15:31:41.575514",
     "status": "completed"
    },
    "tags": []
   },
   "outputs": [],
   "source": [
    "    from sklearn.preprocessing import LabelEncoder\n",
    "    from sklearn.impute import KNNImputer"
   ]
  },
  {
   "cell_type": "code",
   "execution_count": 24,
   "id": "089d106d",
   "metadata": {
    "execution": {
     "iopub.execute_input": "2022-07-26T15:31:42.215657Z",
     "iopub.status.busy": "2022-07-26T15:31:42.215063Z",
     "iopub.status.idle": "2022-07-26T15:31:42.229046Z",
     "shell.execute_reply": "2022-07-26T15:31:42.227823Z"
    },
    "papermill": {
     "duration": 0.034602,
     "end_time": "2022-07-26T15:31:42.231916",
     "exception": false,
     "start_time": "2022-07-26T15:31:42.197314",
     "status": "completed"
    },
    "tags": []
   },
   "outputs": [
    {
     "data": {
      "text/plain": [
       "array([[2.70000e+01, 5.04264e+05, 8.20920e+05, ..., 0.00000e+00,\n",
       "        0.00000e+00, 0.00000e+00],\n",
       "       [4.80000e+01, 7.28556e+05, 8.31444e+05, ..., 0.00000e+00,\n",
       "        0.00000e+00, 0.00000e+00],\n",
       "       [3.00000e+01, 6.42936e+05, 8.26092e+05, ..., 0.00000e+00,\n",
       "        0.00000e+00, 1.00000e+00],\n",
       "       ...,\n",
       "       [4.70000e+01, 6.27636e+05, 7.20336e+05, ..., 0.00000e+00,\n",
       "        0.00000e+00, 0.00000e+00],\n",
       "       [3.90000e+01, 6.54708e+05, 7.93860e+05, ..., 0.00000e+00,\n",
       "        0.00000e+00, 0.00000e+00],\n",
       "       [3.10000e+01, 7.05108e+05, 9.00660e+05, ..., 0.00000e+00,\n",
       "        0.00000e+00, 0.00000e+00]])"
      ]
     },
     "execution_count": 24,
     "metadata": {},
     "output_type": "execute_result"
    }
   ],
   "source": [
    "imputer = KNNImputer(n_neighbors=1)\n",
    "imputer.fit_transform(ohe_train_df)"
   ]
  },
  {
   "cell_type": "code",
   "execution_count": 25,
   "id": "26d56be2",
   "metadata": {
    "execution": {
     "iopub.execute_input": "2022-07-26T15:31:42.265996Z",
     "iopub.status.busy": "2022-07-26T15:31:42.265559Z",
     "iopub.status.idle": "2022-07-26T15:31:42.276078Z",
     "shell.execute_reply": "2022-07-26T15:31:42.274996Z"
    },
    "papermill": {
     "duration": 0.030798,
     "end_time": "2022-07-26T15:31:42.278676",
     "exception": false,
     "start_time": "2022-07-26T15:31:42.247878",
     "status": "completed"
    },
    "tags": []
   },
   "outputs": [
    {
     "data": {
      "text/plain": [
       "age                         0\n",
       "loan_amount                 0\n",
       "asset_cost                  0\n",
       "no_of_loans                 0\n",
       "no_of_curr_loans            0\n",
       "last_delinq_none            0\n",
       "education_1.0               0\n",
       "education_2.0               0\n",
       "proof_submitted_Aadhar      0\n",
       "proof_submitted_Driving     0\n",
       "proof_submitted_PAN         0\n",
       "proof_submitted_Passport    0\n",
       "proof_submitted_VoterID     0\n",
       "dtype: int64"
      ]
     },
     "execution_count": 25,
     "metadata": {},
     "output_type": "execute_result"
    }
   ],
   "source": [
    "ohe_train_df.isnull().sum()"
   ]
  },
  {
   "cell_type": "code",
   "execution_count": 26,
   "id": "57787abb",
   "metadata": {
    "execution": {
     "iopub.execute_input": "2022-07-26T15:31:42.314078Z",
     "iopub.status.busy": "2022-07-26T15:31:42.312659Z",
     "iopub.status.idle": "2022-07-26T15:31:42.323136Z",
     "shell.execute_reply": "2022-07-26T15:31:42.321916Z"
    },
    "papermill": {
     "duration": 0.030785,
     "end_time": "2022-07-26T15:31:42.325905",
     "exception": false,
     "start_time": "2022-07-26T15:31:42.295120",
     "status": "completed"
    },
    "tags": []
   },
   "outputs": [],
   "source": [
    "from sklearn.model_selection import train_test_split\n",
    "X_train, X_test, y_train, y_test = train_test_split(\n",
    "     ohe_train_df, y, test_size=0.25, random_state=42)"
   ]
  },
  {
   "cell_type": "code",
   "execution_count": 27,
   "id": "62c3ec5d",
   "metadata": {
    "execution": {
     "iopub.execute_input": "2022-07-26T15:31:42.360148Z",
     "iopub.status.busy": "2022-07-26T15:31:42.359687Z",
     "iopub.status.idle": "2022-07-26T15:31:51.703867Z",
     "shell.execute_reply": "2022-07-26T15:31:51.702325Z"
    },
    "papermill": {
     "duration": 9.365492,
     "end_time": "2022-07-26T15:31:51.707249",
     "exception": false,
     "start_time": "2022-07-26T15:31:42.341757",
     "status": "completed"
    },
    "tags": []
   },
   "outputs": [],
   "source": [
    "from sklearn.ensemble import RandomForestClassifier\n",
    "clf = RandomForestClassifier(n_estimators = 700, max_depth = 70, max_features = 7, bootstrap = True, random_state=0)\n",
    "clf.fit(X_train, y_train)\n",
    "y_pred=clf.predict(X_test)"
   ]
  },
  {
   "cell_type": "code",
   "execution_count": 28,
   "id": "37a54bf8",
   "metadata": {
    "execution": {
     "iopub.execute_input": "2022-07-26T15:31:51.743545Z",
     "iopub.status.busy": "2022-07-26T15:31:51.742570Z",
     "iopub.status.idle": "2022-07-26T15:31:51.755238Z",
     "shell.execute_reply": "2022-07-26T15:31:51.753570Z"
    },
    "papermill": {
     "duration": 0.034436,
     "end_time": "2022-07-26T15:31:51.758044",
     "exception": false,
     "start_time": "2022-07-26T15:31:51.723608",
     "status": "completed"
    },
    "tags": []
   },
   "outputs": [
    {
     "data": {
      "text/plain": [
       "array([[820, 265],\n",
       "       [460, 205]])"
      ]
     },
     "execution_count": 28,
     "metadata": {},
     "output_type": "execute_result"
    }
   ],
   "source": [
    "# Create confusion matrix\n",
    "from sklearn.metrics import confusion_matrix, f1_score, accuracy_score\n",
    "confusion_matrix(y_test, y_pred)"
   ]
  },
  {
   "cell_type": "code",
   "execution_count": 29,
   "id": "9c41b0a0",
   "metadata": {
    "execution": {
     "iopub.execute_input": "2022-07-26T15:31:51.793682Z",
     "iopub.status.busy": "2022-07-26T15:31:51.792844Z",
     "iopub.status.idle": "2022-07-26T15:31:51.800461Z",
     "shell.execute_reply": "2022-07-26T15:31:51.799087Z"
    },
    "papermill": {
     "duration": 0.028242,
     "end_time": "2022-07-26T15:31:51.803036",
     "exception": false,
     "start_time": "2022-07-26T15:31:51.774794",
     "status": "completed"
    },
    "tags": []
   },
   "outputs": [
    {
     "data": {
      "text/plain": [
       "0.5857142857142857"
      ]
     },
     "execution_count": 29,
     "metadata": {},
     "output_type": "execute_result"
    }
   ],
   "source": [
    "# Display accuracy score\n",
    "accuracy_score(y_test, y_pred)"
   ]
  },
  {
   "cell_type": "code",
   "execution_count": 30,
   "id": "079540c3",
   "metadata": {
    "execution": {
     "iopub.execute_input": "2022-07-26T15:31:51.838325Z",
     "iopub.status.busy": "2022-07-26T15:31:51.837631Z",
     "iopub.status.idle": "2022-07-26T15:31:51.846014Z",
     "shell.execute_reply": "2022-07-26T15:31:51.845092Z"
    },
    "papermill": {
     "duration": 0.028678,
     "end_time": "2022-07-26T15:31:51.848099",
     "exception": false,
     "start_time": "2022-07-26T15:31:51.819421",
     "status": "completed"
    },
    "tags": []
   },
   "outputs": [
    {
     "data": {
      "text/plain": [
       "0.3612334801762114"
      ]
     },
     "execution_count": 30,
     "metadata": {},
     "output_type": "execute_result"
    }
   ],
   "source": [
    "# Display F1 score\n",
    "f1_score(y_test,y_pred)"
   ]
  }
 ],
 "metadata": {
  "kernelspec": {
   "display_name": "Python 3",
   "language": "python",
   "name": "python3"
  },
  "language_info": {
   "codemirror_mode": {
    "name": "ipython",
    "version": 3
   },
   "file_extension": ".py",
   "mimetype": "text/x-python",
   "name": "python",
   "nbconvert_exporter": "python",
   "pygments_lexer": "ipython3",
   "version": "3.7.12"
  },
  "papermill": {
   "default_parameters": {},
   "duration": 28.679287,
   "end_time": "2022-07-26T15:31:52.787736",
   "environment_variables": {},
   "exception": null,
   "input_path": "__notebook__.ipynb",
   "output_path": "__notebook__.ipynb",
   "parameters": {},
   "start_time": "2022-07-26T15:31:24.108449",
   "version": "2.3.4"
  }
 },
 "nbformat": 4,
 "nbformat_minor": 5
}
