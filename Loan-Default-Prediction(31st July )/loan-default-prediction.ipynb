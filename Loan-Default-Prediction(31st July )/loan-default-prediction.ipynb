{
 "cells": [
  {
   "cell_type": "code",
   "execution_count": 1,
   "id": "2f9af361",
   "metadata": {
    "_cell_guid": "b1076dfc-b9ad-4769-8c92-a6c4dae69d19",
    "_uuid": "8f2839f25d086af736a60e9eeb907d3b93b6e0e5",
    "execution": {
     "iopub.execute_input": "2022-07-25T16:55:42.416037Z",
     "iopub.status.busy": "2022-07-25T16:55:42.415416Z",
     "iopub.status.idle": "2022-07-25T16:55:42.440030Z",
     "shell.execute_reply": "2022-07-25T16:55:42.439181Z"
    },
    "papermill": {
     "duration": 0.03696,
     "end_time": "2022-07-25T16:55:42.443651",
     "exception": false,
     "start_time": "2022-07-25T16:55:42.406691",
     "status": "completed"
    },
    "tags": []
   },
   "outputs": [
    {
     "name": "stdout",
     "output_type": "stream",
     "text": [
      "/kaggle/input/analytic-hackthon/sample_submission_tbPU9qQ.csv\n",
      "/kaggle/input/analytic-hackthon/train_LZV4RXX.csv\n",
      "/kaggle/input/analytic-hackthon/test_4zJg83n.csv\n"
     ]
    }
   ],
   "source": [
    "# This Python 3 environment comes with many helpful analytics libraries installed\n",
    "# It is defined by the kaggle/python Docker image: https://github.com/kaggle/docker-python\n",
    "# For example, here's several helpful packages to load\n",
    "\n",
    "import numpy as np # linear algebra\n",
    "import pandas as pd # data processing, CSV file I/O (e.g. pd.read_csv)\n",
    "\n",
    "# Input data files are available in the read-only \"../input/\" directory\n",
    "# For example, running this (by clicking run or pressing Shift+Enter) will list all files under the input directory\n",
    "\n",
    "import os\n",
    "for dirname, _, filenames in os.walk('/kaggle/input'):\n",
    "    for filename in filenames:\n",
    "        print(os.path.join(dirname, filename))\n",
    "\n",
    "# You can write up to 20GB to the current directory (/kaggle/working/) that gets preserved as output when you create a version using \"Save & Run All\" \n",
    "# You can also write temporary files to /kaggle/temp/, but they won't be saved outside of the current session"
   ]
  },
  {
   "cell_type": "code",
   "execution_count": 2,
   "id": "e595d0b1",
   "metadata": {
    "execution": {
     "iopub.execute_input": "2022-07-25T16:55:42.456546Z",
     "iopub.status.busy": "2022-07-25T16:55:42.456159Z",
     "iopub.status.idle": "2022-07-25T16:55:43.632744Z",
     "shell.execute_reply": "2022-07-25T16:55:43.631402Z"
    },
    "papermill": {
     "duration": 1.185913,
     "end_time": "2022-07-25T16:55:43.635573",
     "exception": false,
     "start_time": "2022-07-25T16:55:42.449660",
     "status": "completed"
    },
    "tags": []
   },
   "outputs": [],
   "source": [
    "# library\n",
    "import missingno as msno\n",
    "import matplotlib.pyplot as plt\n",
    "import seaborn as sns"
   ]
  },
  {
   "cell_type": "markdown",
   "id": "cc8b8a44",
   "metadata": {
    "papermill": {
     "duration": 0.004872,
     "end_time": "2022-07-25T16:55:43.645502",
     "exception": false,
     "start_time": "2022-07-25T16:55:43.640630",
     "status": "completed"
    },
    "tags": []
   },
   "source": [
    "## Problem Statement\n",
    "\n",
    "MyHom is a finance company that lends housing loans at the best and most affordable interest rates to customers. In recent times, the company incurred heavy losses due to loan defaults. Most applicants failed to repay the loan as per the promissory note.\n",
    "\n",
    "\n",
    "In order to avoid such losses, the company has decided to build a system for identifying the loan defaulters automatically based on data. This will help the company to identify the potential applicants and ensure the smooth running of the entire process.\n",
    "\n",
    "\n",
    "Now, the company challenges the Data Science community to build a smart AI system to predict the probability of an applicant defaulting the loan or not in the future."
   ]
  },
  {
   "cell_type": "markdown",
   "id": "624932e0",
   "metadata": {
    "papermill": {
     "duration": 0.004737,
     "end_time": "2022-07-25T16:55:43.655250",
     "exception": false,
     "start_time": "2022-07-25T16:55:43.650513",
     "status": "completed"
    },
    "tags": []
   },
   "source": [
    "## Loan Default Prediction\n",
    "\n",
    "Can you predict if an applicant will default the loan or not in the future?"
   ]
  },
  {
   "cell_type": "markdown",
   "id": "e901bc73",
   "metadata": {
    "papermill": {
     "duration": 0.004778,
     "end_time": "2022-07-25T16:55:43.665007",
     "exception": false,
     "start_time": "2022-07-25T16:55:43.660229",
     "status": "completed"
    },
    "tags": []
   },
   "source": [
    "## Variable Discription\n",
    "\n",
    "| Variable                        | Description                                                 |\n",
    "| ------------------------------- | ----------------------------------------------------------- |\n",
    "| loan\\_id                        | Unique identifier of a loan                                 |\n",
    "| age                             | Age of the Applicant                                        |\n",
    "| Education                       | Applicant Education                                         |\n",
    "| proof\\_submitted                | Type of proof submitted                                     |\n",
    "| loan\\_amount                    | Loan Amount Disbursed                                       |\n",
    "| asset\\_cost                     | The total asset value of the applicant                      |\n",
    "| no\\_of\\_loans                   | No. of the loans taken by the applicant                     |\n",
    "| no\\_of\\_curr\\_loans             | No. of active loans held by the applicant                   |\n",
    "| last\\_delinq\\_none              | The loan defaulted in at least one of the past loans        |\n",
    "| loan\\_default (Target Variable) | 0/1 indicating if an applicant will default the loan or not |"
   ]
  },
  {
   "cell_type": "markdown",
   "id": "7e73bd94",
   "metadata": {
    "papermill": {
     "duration": 0.005158,
     "end_time": "2022-07-25T16:55:43.675036",
     "exception": false,
     "start_time": "2022-07-25T16:55:43.669878",
     "status": "completed"
    },
    "tags": []
   },
   "source": [
    "## Evaluation metric\n",
    "\n",
    "\n",
    "The evaluation metric for this hackathon would be the macro F1 Score."
   ]
  },
  {
   "cell_type": "code",
   "execution_count": 3,
   "id": "22a0b47a",
   "metadata": {
    "execution": {
     "iopub.execute_input": "2022-07-25T16:55:43.686599Z",
     "iopub.status.busy": "2022-07-25T16:55:43.686197Z",
     "iopub.status.idle": "2022-07-25T16:55:43.691316Z",
     "shell.execute_reply": "2022-07-25T16:55:43.690074Z"
    },
    "papermill": {
     "duration": 0.013731,
     "end_time": "2022-07-25T16:55:43.693652",
     "exception": false,
     "start_time": "2022-07-25T16:55:43.679921",
     "status": "completed"
    },
    "tags": []
   },
   "outputs": [],
   "source": [
    "filepath_train = '/kaggle/input/analytic-hackthon/train_LZV4RXX.csv'\n",
    "filepath_test = '/kaggle/input/analytic-hackthon/test_4zJg83n.csv'\n",
    "filepath_submission = '/kaggle/input/analytic-hackthon/sample_submission_tbPU9qQ.csv'"
   ]
  },
  {
   "cell_type": "code",
   "execution_count": 4,
   "id": "e9146d88",
   "metadata": {
    "execution": {
     "iopub.execute_input": "2022-07-25T16:55:43.705470Z",
     "iopub.status.busy": "2022-07-25T16:55:43.705095Z",
     "iopub.status.idle": "2022-07-25T16:55:43.760871Z",
     "shell.execute_reply": "2022-07-25T16:55:43.759589Z"
    },
    "papermill": {
     "duration": 0.065222,
     "end_time": "2022-07-25T16:55:43.764082",
     "exception": false,
     "start_time": "2022-07-25T16:55:43.698860",
     "status": "completed"
    },
    "tags": []
   },
   "outputs": [],
   "source": [
    "train_df = pd.read_csv(filepath_train)\n",
    "test_df = pd.read_csv(filepath_test)\n",
    "submission_df = pd.read_csv(filepath_submission)"
   ]
  },
  {
   "cell_type": "code",
   "execution_count": 5,
   "id": "e6128c4b",
   "metadata": {
    "execution": {
     "iopub.execute_input": "2022-07-25T16:55:43.776605Z",
     "iopub.status.busy": "2022-07-25T16:55:43.776194Z",
     "iopub.status.idle": "2022-07-25T16:55:43.785651Z",
     "shell.execute_reply": "2022-07-25T16:55:43.784453Z"
    },
    "papermill": {
     "duration": 0.019618,
     "end_time": "2022-07-25T16:55:43.789152",
     "exception": false,
     "start_time": "2022-07-25T16:55:43.769534",
     "status": "completed"
    },
    "tags": []
   },
   "outputs": [
    {
     "data": {
      "text/plain": [
       "(7000, 10)"
      ]
     },
     "execution_count": 5,
     "metadata": {},
     "output_type": "execute_result"
    }
   ],
   "source": [
    "train_df.shape"
   ]
  },
  {
   "cell_type": "code",
   "execution_count": 6,
   "id": "b0a3dadf",
   "metadata": {
    "execution": {
     "iopub.execute_input": "2022-07-25T16:55:43.802027Z",
     "iopub.status.busy": "2022-07-25T16:55:43.801221Z",
     "iopub.status.idle": "2022-07-25T16:55:43.821718Z",
     "shell.execute_reply": "2022-07-25T16:55:43.820598Z"
    },
    "papermill": {
     "duration": 0.029702,
     "end_time": "2022-07-25T16:55:43.824153",
     "exception": false,
     "start_time": "2022-07-25T16:55:43.794451",
     "status": "completed"
    },
    "tags": []
   },
   "outputs": [
    {
     "data": {
      "text/html": [
       "<div>\n",
       "<style scoped>\n",
       "    .dataframe tbody tr th:only-of-type {\n",
       "        vertical-align: middle;\n",
       "    }\n",
       "\n",
       "    .dataframe tbody tr th {\n",
       "        vertical-align: top;\n",
       "    }\n",
       "\n",
       "    .dataframe thead th {\n",
       "        text-align: right;\n",
       "    }\n",
       "</style>\n",
       "<table border=\"1\" class=\"dataframe\">\n",
       "  <thead>\n",
       "    <tr style=\"text-align: right;\">\n",
       "      <th></th>\n",
       "      <th>loan_id</th>\n",
       "      <th>age</th>\n",
       "      <th>education</th>\n",
       "      <th>proof_submitted</th>\n",
       "      <th>loan_amount</th>\n",
       "      <th>asset_cost</th>\n",
       "      <th>no_of_loans</th>\n",
       "      <th>no_of_curr_loans</th>\n",
       "      <th>last_delinq_none</th>\n",
       "      <th>loan_default</th>\n",
       "    </tr>\n",
       "  </thead>\n",
       "  <tbody>\n",
       "    <tr>\n",
       "      <th>0</th>\n",
       "      <td>1</td>\n",
       "      <td>27</td>\n",
       "      <td>1.0</td>\n",
       "      <td>Aadhar</td>\n",
       "      <td>504264</td>\n",
       "      <td>820920</td>\n",
       "      <td>2</td>\n",
       "      <td>2</td>\n",
       "      <td>0</td>\n",
       "      <td>0</td>\n",
       "    </tr>\n",
       "    <tr>\n",
       "      <th>1</th>\n",
       "      <td>2</td>\n",
       "      <td>48</td>\n",
       "      <td>1.0</td>\n",
       "      <td>Aadhar</td>\n",
       "      <td>728556</td>\n",
       "      <td>831444</td>\n",
       "      <td>6</td>\n",
       "      <td>2</td>\n",
       "      <td>0</td>\n",
       "      <td>0</td>\n",
       "    </tr>\n",
       "    <tr>\n",
       "      <th>2</th>\n",
       "      <td>3</td>\n",
       "      <td>30</td>\n",
       "      <td>2.0</td>\n",
       "      <td>VoterID</td>\n",
       "      <td>642936</td>\n",
       "      <td>826092</td>\n",
       "      <td>0</td>\n",
       "      <td>0</td>\n",
       "      <td>0</td>\n",
       "      <td>1</td>\n",
       "    </tr>\n",
       "    <tr>\n",
       "      <th>3</th>\n",
       "      <td>4</td>\n",
       "      <td>28</td>\n",
       "      <td>1.0</td>\n",
       "      <td>Aadhar</td>\n",
       "      <td>746556</td>\n",
       "      <td>930924</td>\n",
       "      <td>0</td>\n",
       "      <td>0</td>\n",
       "      <td>0</td>\n",
       "      <td>0</td>\n",
       "    </tr>\n",
       "    <tr>\n",
       "      <th>4</th>\n",
       "      <td>5</td>\n",
       "      <td>29</td>\n",
       "      <td>1.0</td>\n",
       "      <td>Aadhar</td>\n",
       "      <td>1139880</td>\n",
       "      <td>1902000</td>\n",
       "      <td>0</td>\n",
       "      <td>0</td>\n",
       "      <td>0</td>\n",
       "      <td>0</td>\n",
       "    </tr>\n",
       "  </tbody>\n",
       "</table>\n",
       "</div>"
      ],
      "text/plain": [
       "   loan_id  age  education proof_submitted  loan_amount  asset_cost  \\\n",
       "0        1   27        1.0          Aadhar       504264      820920   \n",
       "1        2   48        1.0          Aadhar       728556      831444   \n",
       "2        3   30        2.0         VoterID       642936      826092   \n",
       "3        4   28        1.0          Aadhar       746556      930924   \n",
       "4        5   29        1.0          Aadhar      1139880     1902000   \n",
       "\n",
       "   no_of_loans  no_of_curr_loans  last_delinq_none  loan_default  \n",
       "0            2                 2                 0             0  \n",
       "1            6                 2                 0             0  \n",
       "2            0                 0                 0             1  \n",
       "3            0                 0                 0             0  \n",
       "4            0                 0                 0             0  "
      ]
     },
     "execution_count": 6,
     "metadata": {},
     "output_type": "execute_result"
    }
   ],
   "source": [
    "train_df.head()"
   ]
  },
  {
   "cell_type": "code",
   "execution_count": 7,
   "id": "a8c8f55f",
   "metadata": {
    "execution": {
     "iopub.execute_input": "2022-07-25T16:55:43.836645Z",
     "iopub.status.busy": "2022-07-25T16:55:43.836308Z",
     "iopub.status.idle": "2022-07-25T16:55:43.851242Z",
     "shell.execute_reply": "2022-07-25T16:55:43.849970Z"
    },
    "papermill": {
     "duration": 0.024087,
     "end_time": "2022-07-25T16:55:43.853616",
     "exception": false,
     "start_time": "2022-07-25T16:55:43.829529",
     "status": "completed"
    },
    "tags": []
   },
   "outputs": [
    {
     "data": {
      "text/html": [
       "<div>\n",
       "<style scoped>\n",
       "    .dataframe tbody tr th:only-of-type {\n",
       "        vertical-align: middle;\n",
       "    }\n",
       "\n",
       "    .dataframe tbody tr th {\n",
       "        vertical-align: top;\n",
       "    }\n",
       "\n",
       "    .dataframe thead th {\n",
       "        text-align: right;\n",
       "    }\n",
       "</style>\n",
       "<table border=\"1\" class=\"dataframe\">\n",
       "  <thead>\n",
       "    <tr style=\"text-align: right;\">\n",
       "      <th></th>\n",
       "      <th>loan_id</th>\n",
       "      <th>age</th>\n",
       "      <th>education</th>\n",
       "      <th>proof_submitted</th>\n",
       "      <th>loan_amount</th>\n",
       "      <th>asset_cost</th>\n",
       "      <th>no_of_loans</th>\n",
       "      <th>no_of_curr_loans</th>\n",
       "      <th>last_delinq_none</th>\n",
       "      <th>loan_default</th>\n",
       "    </tr>\n",
       "  </thead>\n",
       "  <tbody>\n",
       "    <tr>\n",
       "      <th>6995</th>\n",
       "      <td>6996</td>\n",
       "      <td>45</td>\n",
       "      <td>2.0</td>\n",
       "      <td>Aadhar</td>\n",
       "      <td>930948</td>\n",
       "      <td>1258344</td>\n",
       "      <td>0</td>\n",
       "      <td>0</td>\n",
       "      <td>0</td>\n",
       "      <td>1</td>\n",
       "    </tr>\n",
       "    <tr>\n",
       "      <th>6996</th>\n",
       "      <td>6997</td>\n",
       "      <td>41</td>\n",
       "      <td>2.0</td>\n",
       "      <td>Aadhar</td>\n",
       "      <td>681108</td>\n",
       "      <td>791040</td>\n",
       "      <td>4</td>\n",
       "      <td>4</td>\n",
       "      <td>0</td>\n",
       "      <td>1</td>\n",
       "    </tr>\n",
       "    <tr>\n",
       "      <th>6997</th>\n",
       "      <td>6998</td>\n",
       "      <td>47</td>\n",
       "      <td>2.0</td>\n",
       "      <td>Aadhar</td>\n",
       "      <td>627636</td>\n",
       "      <td>720336</td>\n",
       "      <td>35</td>\n",
       "      <td>11</td>\n",
       "      <td>0</td>\n",
       "      <td>1</td>\n",
       "    </tr>\n",
       "    <tr>\n",
       "      <th>6998</th>\n",
       "      <td>6999</td>\n",
       "      <td>39</td>\n",
       "      <td>1.0</td>\n",
       "      <td>Aadhar</td>\n",
       "      <td>654708</td>\n",
       "      <td>793860</td>\n",
       "      <td>0</td>\n",
       "      <td>0</td>\n",
       "      <td>0</td>\n",
       "      <td>1</td>\n",
       "    </tr>\n",
       "    <tr>\n",
       "      <th>6999</th>\n",
       "      <td>7000</td>\n",
       "      <td>31</td>\n",
       "      <td>1.0</td>\n",
       "      <td>Aadhar</td>\n",
       "      <td>705108</td>\n",
       "      <td>900660</td>\n",
       "      <td>0</td>\n",
       "      <td>0</td>\n",
       "      <td>0</td>\n",
       "      <td>0</td>\n",
       "    </tr>\n",
       "  </tbody>\n",
       "</table>\n",
       "</div>"
      ],
      "text/plain": [
       "      loan_id  age  education proof_submitted  loan_amount  asset_cost  \\\n",
       "6995     6996   45        2.0          Aadhar       930948     1258344   \n",
       "6996     6997   41        2.0          Aadhar       681108      791040   \n",
       "6997     6998   47        2.0          Aadhar       627636      720336   \n",
       "6998     6999   39        1.0          Aadhar       654708      793860   \n",
       "6999     7000   31        1.0          Aadhar       705108      900660   \n",
       "\n",
       "      no_of_loans  no_of_curr_loans  last_delinq_none  loan_default  \n",
       "6995            0                 0                 0             1  \n",
       "6996            4                 4                 0             1  \n",
       "6997           35                11                 0             1  \n",
       "6998            0                 0                 0             1  \n",
       "6999            0                 0                 0             0  "
      ]
     },
     "execution_count": 7,
     "metadata": {},
     "output_type": "execute_result"
    }
   ],
   "source": [
    "train_df.tail()"
   ]
  },
  {
   "cell_type": "code",
   "execution_count": 8,
   "id": "a015ae60",
   "metadata": {
    "execution": {
     "iopub.execute_input": "2022-07-25T16:55:43.867490Z",
     "iopub.status.busy": "2022-07-25T16:55:43.866428Z",
     "iopub.status.idle": "2022-07-25T16:55:43.895230Z",
     "shell.execute_reply": "2022-07-25T16:55:43.894068Z"
    },
    "papermill": {
     "duration": 0.038359,
     "end_time": "2022-07-25T16:55:43.897804",
     "exception": false,
     "start_time": "2022-07-25T16:55:43.859445",
     "status": "completed"
    },
    "tags": []
   },
   "outputs": [
    {
     "name": "stdout",
     "output_type": "stream",
     "text": [
      "<class 'pandas.core.frame.DataFrame'>\n",
      "RangeIndex: 7000 entries, 0 to 6999\n",
      "Data columns (total 10 columns):\n",
      " #   Column            Non-Null Count  Dtype  \n",
      "---  ------            --------------  -----  \n",
      " 0   loan_id           7000 non-null   int64  \n",
      " 1   age               7000 non-null   int64  \n",
      " 2   education         6755 non-null   float64\n",
      " 3   proof_submitted   7000 non-null   object \n",
      " 4   loan_amount       7000 non-null   int64  \n",
      " 5   asset_cost        7000 non-null   int64  \n",
      " 6   no_of_loans       7000 non-null   int64  \n",
      " 7   no_of_curr_loans  7000 non-null   int64  \n",
      " 8   last_delinq_none  7000 non-null   int64  \n",
      " 9   loan_default      7000 non-null   int64  \n",
      "dtypes: float64(1), int64(8), object(1)\n",
      "memory usage: 547.0+ KB\n"
     ]
    }
   ],
   "source": [
    "train_df.info()"
   ]
  },
  {
   "cell_type": "markdown",
   "id": "829f3c64",
   "metadata": {
    "papermill": {
     "duration": 0.005668,
     "end_time": "2022-07-25T16:55:43.909186",
     "exception": false,
     "start_time": "2022-07-25T16:55:43.903518",
     "status": "completed"
    },
    "tags": []
   },
   "source": [
    " #   Column            Non-Null Count  Dtype  change\n",
    "---  ------            --------------  -----  -----\n",
    " 0   loan_id           7000 non-null   int64  cat\n",
    " \n",
    " 1   age               7000 non-null   int64  int\n",
    " \n",
    " 2   education         6755 non-null   float64 cat\n",
    " \n",
    " 3   proof_submitted   7000 non-null   object cat\n",
    " \n",
    " 4   loan_amount       7000 non-null   int64  int\n",
    " \n",
    " 5   asset_cost        7000 non-null   int64  int\n",
    " \n",
    " 6   no_of_loans       7000 non-null   int64  cat\n",
    " \n",
    " 7   no_of_curr_loans  7000 non-null   int64  cat\n",
    " \n",
    " 8   last_delinq_none  7000 non-null   int64  cat\n",
    " \n",
    " 9   loan_default      7000 non-null   int64  cat\n",
    " "
   ]
  },
  {
   "cell_type": "code",
   "execution_count": 9,
   "id": "4f39e720",
   "metadata": {
    "execution": {
     "iopub.execute_input": "2022-07-25T16:55:43.923241Z",
     "iopub.status.busy": "2022-07-25T16:55:43.922520Z",
     "iopub.status.idle": "2022-07-25T16:55:43.949102Z",
     "shell.execute_reply": "2022-07-25T16:55:43.947802Z"
    },
    "papermill": {
     "duration": 0.037082,
     "end_time": "2022-07-25T16:55:43.952275",
     "exception": false,
     "start_time": "2022-07-25T16:55:43.915193",
     "status": "completed"
    },
    "tags": []
   },
   "outputs": [
    {
     "name": "stdout",
     "output_type": "stream",
     "text": [
      "<class 'pandas.core.frame.DataFrame'>\n",
      "RangeIndex: 7000 entries, 0 to 6999\n",
      "Data columns (total 10 columns):\n",
      " #   Column            Non-Null Count  Dtype   \n",
      "---  ------            --------------  -----   \n",
      " 0   loan_id           7000 non-null   category\n",
      " 1   age               7000 non-null   int64   \n",
      " 2   education         6755 non-null   category\n",
      " 3   proof_submitted   7000 non-null   category\n",
      " 4   loan_amount       7000 non-null   int64   \n",
      " 5   asset_cost        7000 non-null   int64   \n",
      " 6   no_of_loans       7000 non-null   category\n",
      " 7   no_of_curr_loans  7000 non-null   category\n",
      " 8   last_delinq_none  7000 non-null   category\n",
      " 9   loan_default      7000 non-null   category\n",
      "dtypes: category(7), int64(3)\n",
      "memory usage: 535.4 KB\n"
     ]
    }
   ],
   "source": [
    "cat_column = ['loan_id', 'education', 'proof_submitted', 'no_of_loans', 'no_of_curr_loans', 'last_delinq_none','loan_default']\n",
    "for cat in cat_column:\n",
    "    train_df[cat]=train_df[cat].astype('category')\n",
    "train_df.info()"
   ]
  },
  {
   "cell_type": "code",
   "execution_count": 10,
   "id": "1bc8449b",
   "metadata": {
    "execution": {
     "iopub.execute_input": "2022-07-25T16:55:43.966817Z",
     "iopub.status.busy": "2022-07-25T16:55:43.966453Z",
     "iopub.status.idle": "2022-07-25T16:55:44.860479Z",
     "shell.execute_reply": "2022-07-25T16:55:44.859606Z"
    },
    "papermill": {
     "duration": 0.903789,
     "end_time": "2022-07-25T16:55:44.862628",
     "exception": false,
     "start_time": "2022-07-25T16:55:43.958839",
     "status": "completed"
    },
    "tags": []
   },
   "outputs": [
    {
     "data": {
      "text/plain": [
       "<AxesSubplot:>"
      ]
     },
     "execution_count": 10,
     "metadata": {},
     "output_type": "execute_result"
    },
    {
     "data": {
      "image/png": "[encoded data removed]",
      "text/plain": [
       "<Figure size 1728x720 with 3 Axes>"
      ]
     },
     "metadata": {
      "needs_background": "light"
     },
     "output_type": "display_data"
    }
   ],
   "source": [
    "msno.bar(train_df)\n",
    "# missing value present in education"
   ]
  },
  {
   "cell_type": "code",
   "execution_count": 11,
   "id": "67969c46",
   "metadata": {
    "execution": {
     "iopub.execute_input": "2022-07-25T16:55:44.878762Z",
     "iopub.status.busy": "2022-07-25T16:55:44.878375Z",
     "iopub.status.idle": "2022-07-25T16:55:45.054580Z",
     "shell.execute_reply": "2022-07-25T16:55:45.053493Z"
    },
    "papermill": {
     "duration": 0.187551,
     "end_time": "2022-07-25T16:55:45.056990",
     "exception": false,
     "start_time": "2022-07-25T16:55:44.869439",
     "status": "completed"
    },
    "tags": []
   },
   "outputs": [
    {
     "data": {
      "text/plain": [
       "<AxesSubplot:>"
      ]
     },
     "execution_count": 11,
     "metadata": {},
     "output_type": "execute_result"
    },
    {
     "data": {
      "image/png": "[encoded data removed]",
      "text/plain": [
       "<Figure size 432x288 with 1 Axes>"
      ]
     },
     "metadata": {
      "needs_background": "light"
     },
     "output_type": "display_data"
    }
   ],
   "source": [
    "train_df['loan_default'].value_counts().plot(kind ='bar')"
   ]
  },
  {
   "cell_type": "code",
   "execution_count": null,
   "id": "39d86377",
   "metadata": {
    "papermill": {
     "duration": 0.006852,
     "end_time": "2022-07-25T16:55:45.071249",
     "exception": false,
     "start_time": "2022-07-25T16:55:45.064397",
     "status": "completed"
    },
    "tags": []
   },
   "outputs": [],
   "source": []
  }
 ],
 "metadata": {
  "kernelspec": {
   "display_name": "Python 3",
   "language": "python",
   "name": "python3"
  },
  "language_info": {
   "codemirror_mode": {
    "name": "ipython",
    "version": 3
   },
   "file_extension": ".py",
   "mimetype": "text/x-python",
   "name": "python",
   "nbconvert_exporter": "python",
   "pygments_lexer": "ipython3",
   "version": "3.7.12"
  },
  "papermill": {
   "default_parameters": {},
   "duration": 13.620307,
   "end_time": "2022-07-25T16:55:45.799876",
   "environment_variables": {},
   "exception": null,
   "input_path": "__notebook__.ipynb",
   "output_path": "__notebook__.ipynb",
   "parameters": {},
   "start_time": "2022-07-25T16:55:32.179569",
   "version": "2.3.4"
  }
 },
 "nbformat": 4,
 "nbformat_minor": 5
}
